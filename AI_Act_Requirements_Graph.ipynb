{
  "cells": [
    {
      "cell_type": "markdown",
      "id": "899447e4-f4dc-4491-be22-46ed1591fc71",
      "metadata": {
        "id": "899447e4-f4dc-4491-be22-46ed1591fc71"
      },
      "source": [
        "# EU AI Act Requirements for Providers of High Risk AI Systems\n",
        "<a target=\"_blank\" href=\"https://colab.research.google.com/github/mrwadams/ai-act-requirements-graph/blob/main/AI_Act_Requirements_Graph.ipynb\"><img src=\"https://colab.research.google.com/assets/colab-badge.svg\" alt=\"Open In Colab\"/></a>\n",
        "\n",
        "This notebook allows you to navigate the [EU AI Act](https://artificialintelligenceact.com/)'s requirements for Providers of High Risk AI Systems as a graph database. The graph visualisation makes it easier to see the relationships between different requirements, their parent articles, and more.\n",
        "\n",
        "## Instructions\n",
        "\n",
        "1. Click the ▶ symbol in the code cell below to run the cell and display the graph.\n",
        "\n",
        "2. Once the graph is displayed, you can interact with it:\n",
        "   - Zoom in and out using the mouse wheel or trackpad\n",
        "   - Pan the graph by clicking and dragging\n",
        "   - Click on a node to view its details in the sidebar\n",
        "   - Use the search bar to find specific nodes\n",
        "\n",
        "3. Explore the relationships between different articles and requirements to gain insights into the EU AI Act's regulation of High Risk AI Systems.\n",
        "\n",
        "Enjoy navigating the graph and discovering the connections within the AI regulatory landscape!"
      ]
    },
    {
      "cell_type": "markdown",
      "id": "dvU2GwDG36ar",
      "metadata": {
        "id": "dvU2GwDG36ar"
      },
      "source": [
        "## Generate Full Graph"
      ]
    },
    {
      "cell_type": "code",
      "execution_count": 1,
      "id": "40c51747-64bc-49f2-90c0-c0ff79d24048",
      "metadata": {
        "colab": {
          "base_uri": "https://localhost:8080/",
          "height": 886,
          "referenced_widgets": [
            "e9c5d18f832b4943ac7c5f8e6db80a22",
            "a17a6cbc9ca94085844fbcd3c89800ce"
          ]
        },
        "id": "40c51747-64bc-49f2-90c0-c0ff79d24048",
        "outputId": "6c0a4c84-6d09-42f4-bb4b-fdcf4e5daad7"
      },
      "outputs": [
        {
          "output_type": "stream",
          "name": "stdout",
          "text": [
            "\u001b[2K   \u001b[90m━━━━━━━━━━━━━━━━━━━━━━━━━━━━━━━━━━━━━━━━\u001b[0m \u001b[32m15.6/15.6 MB\u001b[0m \u001b[31m23.9 MB/s\u001b[0m eta \u001b[36m0:00:00\u001b[0m\n",
            "\u001b[2K   \u001b[90m━━━━━━━━━━━━━━━━━━━━━━━━━━━━━━━━━━━━━━━━\u001b[0m \u001b[32m139.8/139.8 kB\u001b[0m \u001b[31m6.9 MB/s\u001b[0m eta \u001b[36m0:00:00\u001b[0m\n",
            "\u001b[2K   \u001b[90m━━━━━━━━━━━━━━━━━━━━━━━━━━━━━━━━━━━━━━━━\u001b[0m \u001b[32m2.3/2.3 MB\u001b[0m \u001b[31m21.9 MB/s\u001b[0m eta \u001b[36m0:00:00\u001b[0m\n",
            "\u001b[2K   \u001b[90m━━━━━━━━━━━━━━━━━━━━━━━━━━━━━━━━━━━━━━━━\u001b[0m \u001b[32m1.6/1.6 MB\u001b[0m \u001b[31m34.4 MB/s\u001b[0m eta \u001b[36m0:00:00\u001b[0m\n",
            "\u001b[?25h"
          ]
        },
        {
          "output_type": "display_data",
          "data": {
            "text/plain": [
              "GraphWidget(layout=Layout(height='800px', width='100%'))"
            ],
            "application/vnd.jupyter.widget-view+json": {
              "version_major": 2,
              "version_minor": 0,
              "model_id": "e9c5d18f832b4943ac7c5f8e6db80a22"
            }
          },
          "metadata": {
            "application/vnd.jupyter.widget-view+json": {
              "colab": {
                "custom_widget_manager": {
                  "url": "https://ssl.gstatic.com/colaboratory-static/widgets/colab-cdn-widget-manager/2b70e893a8ba7c0f/manager.min.js"
                }
              }
            }
          }
        }
      ],
      "source": [
        "# @title\n",
        "# Install yfiles package and complete imports\n",
        "%pip install yfiles_jupyter_graphs --quiet\n",
        "from yfiles_jupyter_graphs import GraphWidget\n",
        "from typing import Dict\n",
        "\n",
        "# Import and enable Google Colab custom widget manager (required for running in Colab)\n",
        "try:\n",
        "  import google.colab\n",
        "  from google.colab import output\n",
        "  output.enable_custom_widget_manager()\n",
        "except:\n",
        "  pass\n",
        "\n",
        "# Define graph\n",
        "w = GraphWidget()\n",
        "w.nodes = [\n",
        "    {\"id\": \"ART13-1\", \"properties\": {\"label\": \"Identity/Contact Details for Provider\", \"Article\": 13, \"URL\": \"https://artificialintelligenceact.com/title-iii/chapter-2/article-13/\", \"CRE\": \"820-877\"}},\n",
        "    {\"id\": \"ART13-2\", \"properties\": {\"label\": \"Intended Purpose\", \"Article\": 13, \"URL\": \"https://artificialintelligenceact.com/title-iii/chapter-2/article-13/\", \"CRE\": \"820-877\"}},\n",
        "    {\"id\": \"ART13-3\", \"properties\": {\"label\": \"Accuracy, including Metrics, Robustness & Cybersecurity\", \"Article\": 13, \"URL\": \"https://artificialintelligenceact.com/title-iii/chapter-2/article-13/\", \"CRE\": \"820-877\"}},\n",
        "    {\"id\": \"ART13-4\", \"properties\": {\"label\": \"Risks of Foreseeable Misuse of High Risk AI System\", \"Article\": 13, \"URL\": \"https://artificialintelligenceact.com/title-iii/chapter-2/article-13/\", \"CRE\": \"162-655\"}},\n",
        "    {\"id\": \"ART13-5\", \"properties\": {\"label\": \"Ability to Provide Information Explaining AI System Output\", \"Article\": 13, \"URL\": \"https://artificialintelligenceact.com/title-iii/chapter-2/article-13/\", \"CRE\": \"162-655\"}},\n",
        "    {\"id\": \"ART13-6\", \"properties\": {\"label\": \"Performance regarding Persons on which System is to be used\", \"Article\": 13, \"URL\": \"https://artificialintelligenceact.com/title-iii/chapter-2/article-13/\", \"CRE\": \"820-877\"}},\n",
        "    {\"id\": \"ART13-7\", \"properties\": {\"label\": \"Input Data Specifications / Other Info Relevant to Purpose\", \"Article\": 13, \"URL\": \"https://artificialintelligenceact.com/title-iii/chapter-2/article-13/\", \"CRE\": \"820-877\"}},\n",
        "    {\"id\": \"ART13-8\", \"properties\": {\"label\": \"Info Necessary for Deployers to Interpret/Use Output\", \"Article\": 13, \"URL\": \"https://artificialintelligenceact.com/title-iii/chapter-2/article-13/\", \"CRE\": \"820-877\"}},\n",
        "    {\"id\": \"ART13-9\", \"properties\": {\"label\": \"Pre-determined Confirmity Changes to System / Performance\", \"Article\": 13, \"URL\": \"https://artificialintelligenceact.com/title-iii/chapter-2/article-13/\", \"CRE\": \"820-877\"}},\n",
        "    {\"id\": \"ART13-10\", \"properties\": {\"label\": \"Human Oversight Measures\", \"Article\": 13, \"URL\": \"https://artificialintelligenceact.com/title-iii/chapter-2/article-13/\", \"CRE\": \"820-877\"}},\n",
        "    {\"id\": \"ART13-11\", \"properties\": {\"label\": \"Computer Resources Needed and Maintenance Measures\", \"Article\": 13, \"URL\": \"https://artificialintelligenceact.com/title-iii/chapter-2/article-13/\", \"CRE\": \"820-877\"}},\n",
        "    {\"id\": \"ART13-12\", \"properties\": {\"label\": \"Mechanisms to Collect, Store and Interpret Logs\", \"Article\": 13, \"URL\": \"https://artificialintelligenceact.com/title-iii/chapter-2/article-13/\", \"CRE\": \"842-876\"}},\n",
        "\n",
        "    {\"id\": \"ART16-1\", \"properties\": {\"label\": \"Compliance with Ch2 (High Risk AI System Reqs)\", \"Article\": 16, \"URL\": \"https://artificialintelligenceact.com/title-iii/chapter-3/article-16/\", \"CRE\": \"464-513\"}},\n",
        "    {\"id\": \"ART16-2\", \"properties\": {\"label\": \"Indicate Name, TM, Contact Address\", \"Article\": 16, \"URL\": \"https://artificialintelligenceact.com/title-iii/chapter-3/article-16/\", \"CRE\": \"820-877\"}},\n",
        "    {\"id\": \"ART16-3\", \"properties\": {\"label\": \"Quality Management System\", \"Article\": 16, \"URL\": \"https://artificialintelligenceact.com/title-iii/chapter-3/article-16/\", \"CRE\": \"464-513\"}},\n",
        "    {\"id\": \"ART16-4\", \"properties\": {\"label\": \"Documentation\", \"Article\": 16, \"URL\": \"https://artificialintelligenceact.com/title-iii/chapter-3/article-16/\", \"CRE\": \"820-877\"}},\n",
        "    {\"id\": \"ART16-5\", \"properties\": {\"label\": \"Logs\", \"Article\": 16, \"URL\": \"https://artificialintelligenceact.com/title-iii/chapter-3/article-16/\", \"CRE\": \"842-876\"}},\n",
        "    {\"id\": \"ART16-6\", \"properties\": {\"label\": \"Conformity Assessment\", \"Article\": 16, \"URL\": \"https://artificialintelligenceact.com/title-iii/chapter-3/article-16/\", \"CRE\": \"464-513\"}},\n",
        "    {\"id\": \"ART16-7\", \"properties\": {\"label\": \"Conformity Declaration\", \"Article\": 16, \"URL\": \"https://artificialintelligenceact.com/title-iii/chapter-3/article-16/\", \"CRE\": \"464-513\"}},\n",
        "    {\"id\": \"ART16-8\", \"properties\": {\"label\": \"Affix CE Marking\", \"Article\": 16, \"URL\": \"https://artificialintelligenceact.com/title-iii/chapter-3/article-16/\", \"CRE\": \"464-513\"}},\n",
        "    {\"id\": \"ART16-9\", \"properties\": {\"label\": \"Registration\", \"Article\": 16, \"URL\": \"https://artificialintelligenceact.com/title-iii/chapter-3/article-16/\", \"CRE\": \"510-324\"}},\n",
        "    {\"id\": \"ART16-10\", \"properties\": {\"label\": \"Corrective Action / Duty of Information\", \"Article\": 16, \"URL\": \"https://artificialintelligenceact.com/title-iii/chapter-3/article-16/\", \"CRE\": \"887-750\"}},\n",
        "    {\"id\": \"ART16-11\", \"properties\": {\"label\": \"Regulatory Cooperation (Demonstrate Conformity)\", \"Article\": 16, \"URL\": \"https://artificialintelligenceact.com/title-iii/chapter-3/article-16/\", \"CRE\": \"464-513\"}},\n",
        "    {\"id\": \"ART16-12\", \"properties\": {\"label\": \"Accessibility Requirements\", \"Article\": 16, \"URL\": \"https://artificialintelligenceact.com/title-iii/chapter-3/article-16/\", \"CRE\": \"510-324\"}},\n",
        "\n",
        "    {\"id\": \"ART17-1\", \"properties\": {\"label\": \"Strategy for Regulatory Compliance\", \"Article\": 17, \"URL\": \"https://artificialintelligenceact.com/title-iii/chapter-3/article-17/\", \"CRE\": \"510-324\"}},\n",
        "    {\"id\": \"ART17-2\", \"properties\": {\"label\": \"Design, Design Control and Design Verification Measures\", \"Article\": 17, \"URL\": \"https://artificialintelligenceact.com/title-iii/chapter-3/article-17/\", \"CRE\": \"326-704\"}},\n",
        "    {\"id\": \"ART17-3\", \"properties\": {\"label\": \"Development , Quality Control and QA Measures\", \"Article\": 17, \"URL\": \"https://artificialintelligenceact.com/title-iii/chapter-3/article-17/\", \"CRE\": \"433-442\"}},\n",
        "    {\"id\": \"ART17-4\", \"properties\": {\"label\": \"Examination, Test & Validation Measures and Frequency\", \"Article\": 17, \"URL\": \"https://artificialintelligenceact.com/title-iii/chapter-3/article-17/\", \"CRE\": \"433-442\"}},\n",
        "    {\"id\": \"ART17-5\", \"properties\": {\"label\": \"Technical Specifications to be Applied\", \"Article\": 17, \"URL\": \"https://artificialintelligenceact.com/title-iii/chapter-3/article-17/\", \"CRE\": \"787-638\"}},\n",
        "    {\"id\": \"ART17-6\", \"properties\": {\"label\": \"Data Management Systems and Procedures\", \"Article\": 17, \"URL\": \"https://artificialintelligenceact.com/title-iii/chapter-3/article-17/\", \"CRE\": \"126-668\"}},\n",
        "    {\"id\": \"ART17-7\", \"properties\": {\"label\": \"Risk Management System\", \"Article\": 17, \"URL\": \"https://artificialintelligenceact.com/title-iii/chapter-3/article-17/\", \"CRE\": \"307-242\"}},\n",
        "    {\"id\": \"ART17-8\", \"properties\": {\"label\": \"Implement Post-Market Monitoring System\", \"Article\": 17, \"URL\": \"https://artificialintelligenceact.com/title-iii/chapter-3/article-17/\", \"CRE\": \"887-750\"}},\n",
        "    {\"id\": \"ART17-9\", \"properties\": {\"label\": \"Serious Incident Reporting Procedures\", \"Article\": 17, \"URL\": \"https://artificialintelligenceact.com/title-iii/chapter-3/article-17/\", \"CRE\": \"463-577\"}},\n",
        "    {\"id\": \"ART17-10\", \"properties\": {\"label\": \"Communication with National Competent Authorities\", \"Article\": 17, \"URL\": \"https://artificialintelligenceact.com/title-iii/chapter-3/article-17/\", \"CRE\": \"510-324\"}},\n",
        "    {\"id\": \"ART17-11\", \"properties\": {\"label\": \"Resource Management\", \"Article\": 17, \"URL\": \"https://artificialintelligenceact.com/title-iii/chapter-3/article-17/\", \"CRE\": \"563-088\"}},\n",
        "    {\"id\": \"ART17-12\", \"properties\": {\"label\": \"Accountability Framework\", \"Article\": 17, \"URL\": \"https://artificialintelligenceact.com/title-iii/chapter-3/article-17/\", \"CRE\": \"427-113\"}},\n",
        "\n",
        "    {\"id\": \"ART9\", \"properties\": {\"label\": \"Risk Management System\", \"Article\": 9, \"URL\": \"https://artificialintelligenceact.com/title-iii/chapter-2/article-9/\", \"CRE\": \"307-242\"}},\n",
        "    {\"id\": \"ART10\", \"properties\": {\"label\": \"Data & Data Governance\", \"Article\": 10, \"URL\": \"https://artificialintelligenceact.com/title-iii/chapter-2/article-10/\", \"CRE\": \"287-823\"}},\n",
        "    {\"id\": \"ART11\", \"properties\": {\"label\": \"Technical Documentation\", \"Article\": 11, \"URL\": \"https://artificialintelligenceact.com/title-iii/chapter-2/article-11/\", \"CRE\": \"820-877\"}},\n",
        "    {\"id\": \"ART12\", \"properties\": {\"label\": \"Record Keeping (Logs)\", \"Article\": 12, \"URL\": \"https://artificialintelligenceact.com/title-iii/chapter-2/article-12/\", \"CRE\": \"842-876\"}},\n",
        "    {\"id\": \"ART13\", \"properties\": {\"label\": \"Transparency & Use Instructions for Deployers\", \"Article\": 13, \"URL\": \"https://artificialintelligenceact.com/title-iii/chapter-2/article-13/\", \"CRE\": \"820-877\"}},\n",
        "    {\"id\": \"ART14\", \"properties\": {\"label\": \"Design/Develop to enable Human Oversight\", \"Article\": 14, \"URL\": \"https://artificialintelligenceact.com/title-iii/chapter-2/article-14/\", \"CRE\": \"433-342\"}},\n",
        "    {\"id\": \"ART15\", \"properties\": {\"label\": \"Accuracy, Robustness & Cybersecurity\", \"Article\": 15, \"URL\": \"https://artificialintelligenceact.com/title-iii/chapter-2/article-15/\", \"CRE\": \"464-513\"}},\n",
        "\n",
        "    {\"id\": \"ART18-1\", \"properties\": {\"label\": \"Changes Approved by Notified Bodies\", \"Article\": 18, \"URL\": \"https://artificialintelligenceact.com/title-iii/chapter-3/article-18/\", \"CRE\": \"124-564\"}},\n",
        "    {\"id\": \"ART18-2\", \"properties\": {\"label\": \"Decisions/Documents Issues by Notified Bodies\", \"Article\": 18, \"URL\": \"https://artificialintelligenceact.com/title-iii/chapter-3/article-18/\", \"CRE\": \"464-513\"}},\n",
        "    {\"id\": \"ART18-3\", \"properties\": {\"label\": \"EU Declaration of Conformity\", \"Article\": 18, \"URL\": \"https://artificialintelligenceact.com/title-iii/chapter-3/article-18/\", \"CRE\": \"464-513\"}},\n",
        "\n",
        "    {\"id\": \"ART51-1\", \"properties\": {\"label\": \"Register High Risk AI System Provider\", \"Article\": 51, \"URL\": \"https://artificialintelligenceact.com/title-iii/chapter-5/article-51/\", \"CRE\": \"766-162\"}},\n",
        "    {\"id\": \"ART51-2\", \"properties\": {\"label\": \"Register High Risk AI System\", \"Article\": 51, \"URL\": \"https://artificialintelligenceact.com/title-iii/chapter-5/article-51/\", \"CRE\": \"766-162\"}}\n",
        "\n",
        "]\n",
        "\n",
        "w.edges = [\n",
        "    {\"id\": 1, \"start\": \"ART16-3\", \"end\": \"ART17-1\", \"properties\": {\"label\": \"TO_INCLUDE\"}},\n",
        "    {\"id\": 2, \"start\": \"ART16-3\", \"end\": \"ART17-2\", \"properties\": {\"label\": \"TO_INCLUDE\"}},\n",
        "    {\"id\": 3, \"start\": \"ART16-3\", \"end\": \"ART17-3\", \"properties\": {\"label\": \"TO_INCLUDE\"}},\n",
        "    {\"id\": 4, \"start\": \"ART16-3\", \"end\": \"ART17-4\", \"properties\": {\"label\": \"TO_INCLUDE\"}},\n",
        "    {\"id\": 5, \"start\": \"ART16-3\", \"end\": \"ART17-6\", \"properties\": {\"label\": \"TO_INCLUDE\"}},\n",
        "    {\"id\": 6, \"start\": \"ART16-3\", \"end\": \"ART17-7\", \"properties\": {\"label\": \"TO_INCLUDE\"}},\n",
        "    {\"id\": 7, \"start\": \"ART16-3\", \"end\": \"ART17-8\", \"properties\": {\"label\": \"TO_INCLUDE\"}},\n",
        "    {\"id\": 8, \"start\": \"ART16-3\", \"end\": \"ART17-9\", \"properties\": {\"label\": \"TO_INCLUDE\"}},\n",
        "    {\"id\": 9, \"start\": \"ART16-3\", \"end\": \"ART17-10\", \"properties\": {\"label\": \"TO_INCLUDE\"}},\n",
        "    {\"id\": 10, \"start\": \"ART16-3\", \"end\": \"ART17-11\", \"properties\": {\"label\": \"TO_INCLUDE\"}},\n",
        "    {\"id\": 11, \"start\": \"ART16-3\", \"end\": \"ART17-12\", \"properties\": {\"label\": \"TO_INCLUDE\"}},\n",
        "    {\"id\": 12, \"start\": \"ART16-3\", \"end\": \"ART16-4\", \"properties\": {\"label\": \"TO_INCLUDE\"}},\n",
        "    {\"id\": 13, \"start\": \"ART16-10\", \"end\": \"ART17-9\", \"properties\": {\"label\": \"SEE_ALSO\"}},\n",
        "    {\"id\": 14, \"start\": \"ART16-1\", \"end\": \"ART9\", \"properties\": {\"label\": \"REQUIRES\"}},\n",
        "    {\"id\": 15, \"start\": \"ART16-1\", \"end\": \"ART10\", \"properties\": {\"label\": \"REQUIRES\"}},\n",
        "    {\"id\": 16, \"start\": \"ART16-1\", \"end\": \"ART11\", \"properties\": {\"label\": \"REQUIRES\"}},\n",
        "    {\"id\": 17, \"start\": \"ART16-1\", \"end\": \"ART12\", \"properties\": {\"label\": \"REQUIRES\"}},\n",
        "    {\"id\": 18, \"start\": \"ART16-1\", \"end\": \"ART13\", \"properties\": {\"label\": \"REQUIRES\"}},\n",
        "    {\"id\": 19, \"start\": \"ART16-1\", \"end\": \"ART14\", \"properties\": {\"label\": \"REQUIRES\"}},\n",
        "    {\"id\": 20, \"start\": \"ART16-1\", \"end\": \"ART15\", \"properties\": {\"label\": \"REQUIRES\"}},\n",
        "    {\"id\": 21, \"start\": \"ART9\", \"end\": \"ART17-7\", \"properties\": {\"label\": \"RELATED_TO\"}},\n",
        "    {\"id\": 22, \"start\": \"ART16-4\", \"end\": \"ART11\", \"properties\": {\"label\": \"RELATED_TO\"}},\n",
        "    {\"id\": 23, \"start\": \"ART16-4\", \"end\": \"ART18-1\", \"properties\": {\"label\": \"REQUIRES\"}},\n",
        "    {\"id\": 24, \"start\": \"ART16-4\", \"end\": \"ART18-2\", \"properties\": {\"label\": \"REQUIRES\"}},\n",
        "    {\"id\": 25, \"start\": \"ART16-4\", \"end\": \"ART18-3\", \"properties\": {\"label\": \"REQUIRES\"}},\n",
        "    {\"id\": 26, \"start\": \"ART16-5\", \"end\": \"ART12\", \"properties\": {\"label\": \"RELATED_TO\"}},\n",
        "    {\"id\": 27, \"start\": \"ART16-9\", \"end\": \"ART51-1\", \"properties\": {\"label\": \"REQUIRES\"}},\n",
        "    {\"id\": 28, \"start\": \"ART16-9\", \"end\": \"ART51-2\", \"properties\": {\"label\": \"REQUIRES\"}},\n",
        "    {\"id\": 29, \"start\": \"ART13\", \"end\": \"ART13-1\", \"properties\": {\"label\": \"REQUIRES\"}},\n",
        "    {\"id\": 30, \"start\": \"ART13\", \"end\": \"ART13-2\", \"properties\": {\"label\": \"REQUIRES\"}},\n",
        "    {\"id\": 31, \"start\": \"ART13\", \"end\": \"ART13-3\", \"properties\": {\"label\": \"REQUIRES\"}},\n",
        "    {\"id\": 32, \"start\": \"ART13\", \"end\": \"ART13-4\", \"properties\": {\"label\": \"REQUIRES\"}},\n",
        "    {\"id\": 33, \"start\": \"ART13\", \"end\": \"ART13-5\", \"properties\": {\"label\": \"REQUIRES\"}},\n",
        "    {\"id\": 34, \"start\": \"ART13\", \"end\": \"ART13-6\", \"properties\": {\"label\": \"REQUIRES\"}},\n",
        "    {\"id\": 35, \"start\": \"ART13\", \"end\": \"ART13-7\", \"properties\": {\"label\": \"REQUIRES\"}},\n",
        "    {\"id\": 36, \"start\": \"ART13\", \"end\": \"ART13-8\", \"properties\": {\"label\": \"REQUIRES\"}},\n",
        "    {\"id\": 37, \"start\": \"ART13\", \"end\": \"ART13-9\", \"properties\": {\"label\": \"REQUIRES\"}},\n",
        "    {\"id\": 38, \"start\": \"ART13\", \"end\": \"ART13-10\", \"properties\": {\"label\": \"REQUIRES\"}},\n",
        "    {\"id\": 39, \"start\": \"ART13\", \"end\": \"ART13-11\", \"properties\": {\"label\": \"REQUIRES\"}},\n",
        "    {\"id\": 40, \"start\": \"ART13\", \"end\": \"ART13-12\", \"properties\": {\"label\": \"REQUIRES\"}},\n",
        "    {\"id\": 41, \"start\": \"ART13-10\", \"end\": \"ART14\", \"properties\": {\"label\": \"SEE_ALSO\"}},\n",
        "]\n",
        "\n",
        "w.directed = True\n",
        "\n",
        "# Define a function to determine node color based on ID prefix\n",
        "def custom_node_color_mapping(node: Dict):\n",
        "    \"\"\"Determine node color based on ID prefix and return the corresponding color with an attractive scheme.\"\"\"\n",
        "    # Define attractive colors for each node type\n",
        "    colors = {\n",
        "        \"ART16\": \"#e8a876\",\n",
        "        \"ART17\": \"#93e876\",\n",
        "        \"ART9\": \"#e362d4\",\n",
        "        \"ART10\": \"#e362d4\",\n",
        "        \"ART11\": \"#e362d4\",\n",
        "        \"ART12\": \"#e362d4\",\n",
        "        \"ART13\": \"#e362d4\",\n",
        "        \"ART13-\": \"#ede772\",\n",
        "        \"ART14\": \"#e362d4\",\n",
        "        \"ART15\": \"#e362d4\",\n",
        "        \"ART18\": \"#FF6347\",\n",
        "        \"ART51\": \"#76c0e8\",\n",
        "    }\n",
        "\n",
        "    # Determine the node type from its ID and apply the corresponding color\n",
        "    for prefix, color in colors.items():\n",
        "        if node['id'].startswith(prefix):\n",
        "            return color\n",
        "\n",
        "    # Return a default color if the node type does not match any of the specified types\n",
        "    # This line can be omitted if you do not wish to apply a default color\n",
        "    return \"#CCCCCC\"  # Light gray as a default color\n",
        "\n",
        "# Use the defined function to set node colors\n",
        "w.set_node_color_mapping(custom_node_color_mapping)\n",
        "\n",
        "# Display the graph\n",
        "display(w)"
      ]
    },
    {
      "cell_type": "markdown",
      "id": "-WioipTP4fu1",
      "metadata": {
        "id": "-WioipTP4fu1"
      },
      "source": [
        "## Exploring Relationships\n",
        "\n",
        "The graph visualisation allows you to explore the relationships between different requirements and their parent articles. Here are a few interesting relationships to investigate:\n",
        "\n",
        "- The specific requirements that fall under a given Article\n",
        "- Nodes (requirements) that are connected by specific relationship types such as \"REQUIRES\" or \"SEE_ALSO\"\n",
        "- Identifying key requirements by analysing their degree of centrality in the graph\n",
        "\n",
        "Use the code cells below to generate subgraphs focusing on specific aspects of the AI Act."
      ]
    },
    {
      "cell_type": "markdown",
      "id": "cEHvU-va5Os9",
      "metadata": {
        "id": "cEHvU-va5Os9"
      },
      "source": [
        "### Requirements in Article\n",
        "This subgraph focuses on the nodes and edges related to Article 16 of the AI regulation. It provides a visual representation of the specific requirements and their relationships within Article 16, allowing for a more targeted analysis of this particular section of the regulation."
      ]
    },
    {
      "cell_type": "code",
      "execution_count": 2,
      "id": "Hy6qhGKc4EvJ",
      "metadata": {
        "colab": {
          "base_uri": "https://localhost:8080/",
          "height": 637,
          "referenced_widgets": [
            "bf572f50025e4cf9a4fd7bd9cc401870",
            "78421a2f12dd4880a2f08a1c8bdf547b"
          ]
        },
        "id": "Hy6qhGKc4EvJ",
        "outputId": "a0e56648-612c-4b1d-d930-24a35f099799"
      },
      "outputs": [
        {
          "output_type": "display_data",
          "data": {
            "text/plain": [
              "GraphWidget(layout=Layout(height='620px', width='100%'))"
            ],
            "application/vnd.jupyter.widget-view+json": {
              "version_major": 2,
              "version_minor": 0,
              "model_id": "bf572f50025e4cf9a4fd7bd9cc401870"
            }
          },
          "metadata": {
            "application/vnd.jupyter.widget-view+json": {
              "colab": {
                "custom_widget_manager": {
                  "url": "https://ssl.gstatic.com/colaboratory-static/widgets/colab-cdn-widget-manager/2b70e893a8ba7c0f/manager.min.js"
                }
              }
            }
          }
        }
      ],
      "source": [
        "# Generate a subgraph showing nodes related to Article 16\n",
        "article_16_nodes = [node for node in w.nodes if node['properties']['Article'] == 16]\n",
        "article_16_edges = [edge for edge in w.edges if edge['start'] in [node['id'] for node in article_16_nodes] or edge['end'] in [node['id'] for node in article_16_nodes]]\n",
        "article_16_graph = GraphWidget()\n",
        "article_16_graph.nodes = article_16_nodes\n",
        "article_16_graph.edges = article_16_edges\n",
        "article_16_graph.directed = True\n",
        "article_16_graph.set_node_color_mapping(custom_node_color_mapping)\n",
        "display(article_16_graph)"
      ]
    },
    {
      "cell_type": "markdown",
      "id": "Qr8GmNS25sYt",
      "metadata": {
        "id": "Qr8GmNS25sYt"
      },
      "source": [
        "### Subgraph of \"REQUIRES\" Relationships\n",
        "\n",
        "This subgraph highlights the nodes and edges that are connected by the \"REQUIRES\" relationship type. It allows for a focused analysis of the dependencies and mandatory relationships between different requirements in the AI regulation."
      ]
    },
    {
      "cell_type": "code",
      "execution_count": 3,
      "id": "r8JD9Kl74QXN",
      "metadata": {
        "colab": {
          "base_uri": "https://localhost:8080/",
          "height": 787,
          "referenced_widgets": [
            "7af74ef23cb646569e287e58f916fbb6",
            "9924e5fecce24aeb9a67739c65669cd9"
          ]
        },
        "id": "r8JD9Kl74QXN",
        "outputId": "9cc7ffce-2925-4343-cd6a-06b46618874d"
      },
      "outputs": [
        {
          "output_type": "display_data",
          "data": {
            "text/plain": [
              "GraphWidget(layout=Layout(height='770px', width='100%'))"
            ],
            "application/vnd.jupyter.widget-view+json": {
              "version_major": 2,
              "version_minor": 0,
              "model_id": "7af74ef23cb646569e287e58f916fbb6"
            }
          },
          "metadata": {
            "application/vnd.jupyter.widget-view+json": {
              "colab": {
                "custom_widget_manager": {
                  "url": "https://ssl.gstatic.com/colaboratory-static/widgets/colab-cdn-widget-manager/2b70e893a8ba7c0f/manager.min.js"
                }
              }
            }
          }
        }
      ],
      "source": [
        "# Generate a subgraph showing nodes connected by the \"REQUIRES\" edge type\n",
        "requires_edges = [edge for edge in w.edges if edge['properties']['label'] == 'REQUIRES']\n",
        "requires_nodes = list(set([edge['start'] for edge in requires_edges] + [edge['end'] for edge in requires_edges]))\n",
        "requires_subgraph = GraphWidget()\n",
        "requires_subgraph.nodes = [node for node in w.nodes if node['id'] in requires_nodes]\n",
        "requires_subgraph.edges = requires_edges\n",
        "requires_subgraph.directed = True\n",
        "requires_subgraph.set_node_color_mapping(custom_node_color_mapping)\n",
        "display(requires_subgraph)"
      ]
    },
    {
      "cell_type": "markdown",
      "id": "v26viIhl8K5l",
      "metadata": {
        "id": "v26viIhl8K5l"
      },
      "source": [
        "### Requirements with High Degree Centrality\n",
        "\n",
        "This subgraph focuses on nodes that have a high degree centrality, meaning they have a large number of incoming and/or outgoing edges. Nodes with a degree centrality above a specified threshold are included in the subgraph. This analysis can help identify key requirements or articles that are highly connected and potentially have a significant impact on the overall regulatory framework."
      ]
    },
    {
      "cell_type": "code",
      "execution_count": 4,
      "id": "Vm4Sbvt-6Vlg",
      "metadata": {
        "colab": {
          "base_uri": "https://localhost:8080/",
          "height": 517,
          "referenced_widgets": [
            "6f41611c41834b9faf264d90a1008bde",
            "172db804d37f4c678fd60805535200e8"
          ]
        },
        "id": "Vm4Sbvt-6Vlg",
        "outputId": "80fa4554-8199-4af7-9500-01438894bf31"
      },
      "outputs": [
        {
          "output_type": "display_data",
          "data": {
            "text/plain": [
              "GraphWidget(layout=Layout(height='500px', width='100%'))"
            ],
            "application/vnd.jupyter.widget-view+json": {
              "version_major": 2,
              "version_minor": 0,
              "model_id": "6f41611c41834b9faf264d90a1008bde"
            }
          },
          "metadata": {
            "application/vnd.jupyter.widget-view+json": {
              "colab": {
                "custom_widget_manager": {
                  "url": "https://ssl.gstatic.com/colaboratory-static/widgets/colab-cdn-widget-manager/2b70e893a8ba7c0f/manager.min.js"
                }
              }
            }
          }
        }
      ],
      "source": [
        "# Calculate degree centrality for each node\n",
        "degree_centrality = {}\n",
        "for node in w.nodes:\n",
        "    degree_centrality[node['id']] = sum([1 for edge in w.edges if edge['start'] == node['id'] or edge['end'] == node['id']])\n",
        "\n",
        "# Generate a subgraph showing nodes with a degree centrality above a certain threshold\n",
        "threshold = 5\n",
        "high_degree_nodes = [node for node in w.nodes if degree_centrality[node['id']] > threshold]\n",
        "high_degree_edges = [edge for edge in w.edges if edge['start'] in [node['id'] for node in high_degree_nodes] or edge['end'] in [node['id'] for node in high_degree_nodes]]\n",
        "high_degree_subgraph = GraphWidget()\n",
        "high_degree_subgraph.nodes = high_degree_nodes\n",
        "high_degree_subgraph.edges = high_degree_edges\n",
        "high_degree_subgraph.directed = True\n",
        "high_degree_subgraph.set_node_color_mapping(custom_node_color_mapping)\n",
        "display(high_degree_subgraph)"
      ]
    }
  ],
  "metadata": {
    "colab": {
      "provenance": []
    },
    "kernelspec": {
      "display_name": "Python 3 (ipykernel)",
      "language": "python",
      "name": "python3"
    },
    "language_info": {
      "codemirror_mode": {
        "name": "ipython",
        "version": 3
      },
      "file_extension": ".py",
      "mimetype": "text/x-python",
      "name": "python",
      "nbconvert_exporter": "python",
      "pygments_lexer": "ipython3",
      "version": "3.12.2"
    },
    "widgets": {
      "application/vnd.jupyter.widget-state+json": {
        "e9c5d18f832b4943ac7c5f8e6db80a22": {
          "model_module": "yfiles-jupyter-graphs",
          "model_name": "GraphModel",
          "model_module_version": "^1.10.1",
          "state": {
            "_context_pane_mapping": [
              {
                "id": "Neighborhood",
                "title": "Neighborhood"
              },
              {
                "id": "Data",
                "title": "Data"
              },
              {
                "id": "Search",
                "title": "Search"
              },
              {
                "id": "About",
                "title": "About"
              }
            ],
            "_data_importer": "unknown",
            "_directed": true,
            "_dom_classes": [],
            "_edges": [
              {
                "id": 1,
                "start": "ART16-3",
                "end": "ART17-1",
                "properties": {
                  "label": "TO_INCLUDE"
                },
                "color": "#15AFAC",
                "thickness_factor": 1,
                "directed": true,
                "styles": {},
                "label": "TO_INCLUDE"
              },
              {
                "id": 2,
                "start": "ART16-3",
                "end": "ART17-2",
                "properties": {
                  "label": "TO_INCLUDE"
                },
                "color": "#15AFAC",
                "thickness_factor": 1,
                "directed": true,
                "styles": {},
                "label": "TO_INCLUDE"
              },
              {
                "id": 3,
                "start": "ART16-3",
                "end": "ART17-3",
                "properties": {
                  "label": "TO_INCLUDE"
                },
                "color": "#15AFAC",
                "thickness_factor": 1,
                "directed": true,
                "styles": {},
                "label": "TO_INCLUDE"
              },
              {
                "id": 4,
                "start": "ART16-3",
                "end": "ART17-4",
                "properties": {
                  "label": "TO_INCLUDE"
                },
                "color": "#15AFAC",
                "thickness_factor": 1,
                "directed": true,
                "styles": {},
                "label": "TO_INCLUDE"
              },
              {
                "id": 5,
                "start": "ART16-3",
                "end": "ART17-6",
                "properties": {
                  "label": "TO_INCLUDE"
                },
                "color": "#15AFAC",
                "thickness_factor": 1,
                "directed": true,
                "styles": {},
                "label": "TO_INCLUDE"
              },
              {
                "id": 6,
                "start": "ART16-3",
                "end": "ART17-7",
                "properties": {
                  "label": "TO_INCLUDE"
                },
                "color": "#15AFAC",
                "thickness_factor": 1,
                "directed": true,
                "styles": {},
                "label": "TO_INCLUDE"
              },
              {
                "id": 7,
                "start": "ART16-3",
                "end": "ART17-8",
                "properties": {
                  "label": "TO_INCLUDE"
                },
                "color": "#15AFAC",
                "thickness_factor": 1,
                "directed": true,
                "styles": {},
                "label": "TO_INCLUDE"
              },
              {
                "id": 8,
                "start": "ART16-3",
                "end": "ART17-9",
                "properties": {
                  "label": "TO_INCLUDE"
                },
                "color": "#15AFAC",
                "thickness_factor": 1,
                "directed": true,
                "styles": {},
                "label": "TO_INCLUDE"
              },
              {
                "id": 9,
                "start": "ART16-3",
                "end": "ART17-10",
                "properties": {
                  "label": "TO_INCLUDE"
                },
                "color": "#15AFAC",
                "thickness_factor": 1,
                "directed": true,
                "styles": {},
                "label": "TO_INCLUDE"
              },
              {
                "id": 10,
                "start": "ART16-3",
                "end": "ART17-11",
                "properties": {
                  "label": "TO_INCLUDE"
                },
                "color": "#15AFAC",
                "thickness_factor": 1,
                "directed": true,
                "styles": {},
                "label": "TO_INCLUDE"
              },
              {
                "id": 11,
                "start": "ART16-3",
                "end": "ART17-12",
                "properties": {
                  "label": "TO_INCLUDE"
                },
                "color": "#15AFAC",
                "thickness_factor": 1,
                "directed": true,
                "styles": {},
                "label": "TO_INCLUDE"
              },
              {
                "id": 12,
                "start": "ART16-3",
                "end": "ART16-4",
                "properties": {
                  "label": "TO_INCLUDE"
                },
                "color": "#15AFAC",
                "thickness_factor": 1,
                "directed": true,
                "styles": {},
                "label": "TO_INCLUDE"
              },
              {
                "id": 13,
                "start": "ART16-10",
                "end": "ART17-9",
                "properties": {
                  "label": "SEE_ALSO"
                },
                "color": "#15AFAC",
                "thickness_factor": 1,
                "directed": true,
                "styles": {},
                "label": "SEE_ALSO"
              },
              {
                "id": 14,
                "start": "ART16-1",
                "end": "ART9",
                "properties": {
                  "label": "REQUIRES"
                },
                "color": "#15AFAC",
                "thickness_factor": 1,
                "directed": true,
                "styles": {},
                "label": "REQUIRES"
              },
              {
                "id": 15,
                "start": "ART16-1",
                "end": "ART10",
                "properties": {
                  "label": "REQUIRES"
                },
                "color": "#15AFAC",
                "thickness_factor": 1,
                "directed": true,
                "styles": {},
                "label": "REQUIRES"
              },
              {
                "id": 16,
                "start": "ART16-1",
                "end": "ART11",
                "properties": {
                  "label": "REQUIRES"
                },
                "color": "#15AFAC",
                "thickness_factor": 1,
                "directed": true,
                "styles": {},
                "label": "REQUIRES"
              },
              {
                "id": 17,
                "start": "ART16-1",
                "end": "ART12",
                "properties": {
                  "label": "REQUIRES"
                },
                "color": "#15AFAC",
                "thickness_factor": 1,
                "directed": true,
                "styles": {},
                "label": "REQUIRES"
              },
              {
                "id": 18,
                "start": "ART16-1",
                "end": "ART13",
                "properties": {
                  "label": "REQUIRES"
                },
                "color": "#15AFAC",
                "thickness_factor": 1,
                "directed": true,
                "styles": {},
                "label": "REQUIRES"
              },
              {
                "id": 19,
                "start": "ART16-1",
                "end": "ART14",
                "properties": {
                  "label": "REQUIRES"
                },
                "color": "#15AFAC",
                "thickness_factor": 1,
                "directed": true,
                "styles": {},
                "label": "REQUIRES"
              },
              {
                "id": 20,
                "start": "ART16-1",
                "end": "ART15",
                "properties": {
                  "label": "REQUIRES"
                },
                "color": "#15AFAC",
                "thickness_factor": 1,
                "directed": true,
                "styles": {},
                "label": "REQUIRES"
              },
              {
                "id": 21,
                "start": "ART9",
                "end": "ART17-7",
                "properties": {
                  "label": "RELATED_TO"
                },
                "color": "#15AFAC",
                "thickness_factor": 1,
                "directed": true,
                "styles": {},
                "label": "RELATED_TO"
              },
              {
                "id": 22,
                "start": "ART16-4",
                "end": "ART11",
                "properties": {
                  "label": "RELATED_TO"
                },
                "color": "#15AFAC",
                "thickness_factor": 1,
                "directed": true,
                "styles": {},
                "label": "RELATED_TO"
              },
              {
                "id": 23,
                "start": "ART16-4",
                "end": "ART18-1",
                "properties": {
                  "label": "REQUIRES"
                },
                "color": "#15AFAC",
                "thickness_factor": 1,
                "directed": true,
                "styles": {},
                "label": "REQUIRES"
              },
              {
                "id": 24,
                "start": "ART16-4",
                "end": "ART18-2",
                "properties": {
                  "label": "REQUIRES"
                },
                "color": "#15AFAC",
                "thickness_factor": 1,
                "directed": true,
                "styles": {},
                "label": "REQUIRES"
              },
              {
                "id": 25,
                "start": "ART16-4",
                "end": "ART18-3",
                "properties": {
                  "label": "REQUIRES"
                },
                "color": "#15AFAC",
                "thickness_factor": 1,
                "directed": true,
                "styles": {},
                "label": "REQUIRES"
              },
              {
                "id": 26,
                "start": "ART16-5",
                "end": "ART12",
                "properties": {
                  "label": "RELATED_TO"
                },
                "color": "#15AFAC",
                "thickness_factor": 1,
                "directed": true,
                "styles": {},
                "label": "RELATED_TO"
              },
              {
                "id": 27,
                "start": "ART16-9",
                "end": "ART51-1",
                "properties": {
                  "label": "REQUIRES"
                },
                "color": "#15AFAC",
                "thickness_factor": 1,
                "directed": true,
                "styles": {},
                "label": "REQUIRES"
              },
              {
                "id": 28,
                "start": "ART16-9",
                "end": "ART51-2",
                "properties": {
                  "label": "REQUIRES"
                },
                "color": "#15AFAC",
                "thickness_factor": 1,
                "directed": true,
                "styles": {},
                "label": "REQUIRES"
              },
              {
                "id": 29,
                "start": "ART13",
                "end": "ART13-1",
                "properties": {
                  "label": "REQUIRES"
                },
                "color": "#15AFAC",
                "thickness_factor": 1,
                "directed": true,
                "styles": {},
                "label": "REQUIRES"
              },
              {
                "id": 30,
                "start": "ART13",
                "end": "ART13-2",
                "properties": {
                  "label": "REQUIRES"
                },
                "color": "#15AFAC",
                "thickness_factor": 1,
                "directed": true,
                "styles": {},
                "label": "REQUIRES"
              },
              {
                "id": 31,
                "start": "ART13",
                "end": "ART13-3",
                "properties": {
                  "label": "REQUIRES"
                },
                "color": "#15AFAC",
                "thickness_factor": 1,
                "directed": true,
                "styles": {},
                "label": "REQUIRES"
              },
              {
                "id": 32,
                "start": "ART13",
                "end": "ART13-4",
                "properties": {
                  "label": "REQUIRES"
                },
                "color": "#15AFAC",
                "thickness_factor": 1,
                "directed": true,
                "styles": {},
                "label": "REQUIRES"
              },
              {
                "id": 33,
                "start": "ART13",
                "end": "ART13-5",
                "properties": {
                  "label": "REQUIRES"
                },
                "color": "#15AFAC",
                "thickness_factor": 1,
                "directed": true,
                "styles": {},
                "label": "REQUIRES"
              },
              {
                "id": 34,
                "start": "ART13",
                "end": "ART13-6",
                "properties": {
                  "label": "REQUIRES"
                },
                "color": "#15AFAC",
                "thickness_factor": 1,
                "directed": true,
                "styles": {},
                "label": "REQUIRES"
              },
              {
                "id": 35,
                "start": "ART13",
                "end": "ART13-7",
                "properties": {
                  "label": "REQUIRES"
                },
                "color": "#15AFAC",
                "thickness_factor": 1,
                "directed": true,
                "styles": {},
                "label": "REQUIRES"
              },
              {
                "id": 36,
                "start": "ART13",
                "end": "ART13-8",
                "properties": {
                  "label": "REQUIRES"
                },
                "color": "#15AFAC",
                "thickness_factor": 1,
                "directed": true,
                "styles": {},
                "label": "REQUIRES"
              },
              {
                "id": 37,
                "start": "ART13",
                "end": "ART13-9",
                "properties": {
                  "label": "REQUIRES"
                },
                "color": "#15AFAC",
                "thickness_factor": 1,
                "directed": true,
                "styles": {},
                "label": "REQUIRES"
              },
              {
                "id": 38,
                "start": "ART13",
                "end": "ART13-10",
                "properties": {
                  "label": "REQUIRES"
                },
                "color": "#15AFAC",
                "thickness_factor": 1,
                "directed": true,
                "styles": {},
                "label": "REQUIRES"
              },
              {
                "id": 39,
                "start": "ART13",
                "end": "ART13-11",
                "properties": {
                  "label": "REQUIRES"
                },
                "color": "#15AFAC",
                "thickness_factor": 1,
                "directed": true,
                "styles": {},
                "label": "REQUIRES"
              },
              {
                "id": 40,
                "start": "ART13",
                "end": "ART13-12",
                "properties": {
                  "label": "REQUIRES"
                },
                "color": "#15AFAC",
                "thickness_factor": 1,
                "directed": true,
                "styles": {},
                "label": "REQUIRES"
              },
              {
                "id": 41,
                "start": "ART13-10",
                "end": "ART14",
                "properties": {
                  "label": "SEE_ALSO"
                },
                "color": "#15AFAC",
                "thickness_factor": 1,
                "directed": true,
                "styles": {},
                "label": "SEE_ALSO"
              }
            ],
            "_graph_layout": {},
            "_highlight": [],
            "_license": {},
            "_model_module": "yfiles-jupyter-graphs",
            "_model_module_version": "^1.10.1",
            "_model_name": "GraphModel",
            "_neighborhood": {},
            "_nodes": [
              {
                "id": "ART13-1",
                "properties": {
                  "label": "Identity/Contact Details for Provider",
                  "Article": 13,
                  "URL": "https://artificialintelligenceact.com/title-iii/chapter-2/article-13/",
                  "CRE": "820-877"
                },
                "color": "#e362d4",
                "styles": {},
                "label": "Identity/Contact Details for Provider",
                "scale_factor": 1,
                "type": "#e362d4",
                "size": [
                  55,
                  55
                ],
                "position": [
                  0,
                  0
                ]
              },
              {
                "id": "ART13-2",
                "properties": {
                  "label": "Intended Purpose",
                  "Article": 13,
                  "URL": "https://artificialintelligenceact.com/title-iii/chapter-2/article-13/",
                  "CRE": "820-877"
                },
                "color": "#e362d4",
                "styles": {},
                "label": "Intended Purpose",
                "scale_factor": 1,
                "type": "#e362d4",
                "size": [
                  55,
                  55
                ],
                "position": [
                  0,
                  0
                ]
              },
              {
                "id": "ART13-3",
                "properties": {
                  "label": "Accuracy, including Metrics, Robustness & Cybersecurity",
                  "Article": 13,
                  "URL": "https://artificialintelligenceact.com/title-iii/chapter-2/article-13/",
                  "CRE": "820-877"
                },
                "color": "#e362d4",
                "styles": {},
                "label": "Accuracy, including Metrics, Robustness & Cybersecurity",
                "scale_factor": 1,
                "type": "#e362d4",
                "size": [
                  55,
                  55
                ],
                "position": [
                  0,
                  0
                ]
              },
              {
                "id": "ART13-4",
                "properties": {
                  "label": "Risks of Foreseeable Misuse of High Risk AI System",
                  "Article": 13,
                  "URL": "https://artificialintelligenceact.com/title-iii/chapter-2/article-13/",
                  "CRE": "162-655"
                },
                "color": "#e362d4",
                "styles": {},
                "label": "Risks of Foreseeable Misuse of High Risk AI System",
                "scale_factor": 1,
                "type": "#e362d4",
                "size": [
                  55,
                  55
                ],
                "position": [
                  0,
                  0
                ]
              },
              {
                "id": "ART13-5",
                "properties": {
                  "label": "Ability to Provide Information Explaining AI System Output",
                  "Article": 13,
                  "URL": "https://artificialintelligenceact.com/title-iii/chapter-2/article-13/",
                  "CRE": "162-655"
                },
                "color": "#e362d4",
                "styles": {},
                "label": "Ability to Provide Information Explaining AI System Output",
                "scale_factor": 1,
                "type": "#e362d4",
                "size": [
                  55,
                  55
                ],
                "position": [
                  0,
                  0
                ]
              },
              {
                "id": "ART13-6",
                "properties": {
                  "label": "Performance regarding Persons on which System is to be used",
                  "Article": 13,
                  "URL": "https://artificialintelligenceact.com/title-iii/chapter-2/article-13/",
                  "CRE": "820-877"
                },
                "color": "#e362d4",
                "styles": {},
                "label": "Performance regarding Persons on which System is to be used",
                "scale_factor": 1,
                "type": "#e362d4",
                "size": [
                  55,
                  55
                ],
                "position": [
                  0,
                  0
                ]
              },
              {
                "id": "ART13-7",
                "properties": {
                  "label": "Input Data Specifications / Other Info Relevant to Purpose",
                  "Article": 13,
                  "URL": "https://artificialintelligenceact.com/title-iii/chapter-2/article-13/",
                  "CRE": "820-877"
                },
                "color": "#e362d4",
                "styles": {},
                "label": "Input Data Specifications / Other Info Relevant to Purpose",
                "scale_factor": 1,
                "type": "#e362d4",
                "size": [
                  55,
                  55
                ],
                "position": [
                  0,
                  0
                ]
              },
              {
                "id": "ART13-8",
                "properties": {
                  "label": "Info Necessary for Deployers to Interpret/Use Output",
                  "Article": 13,
                  "URL": "https://artificialintelligenceact.com/title-iii/chapter-2/article-13/",
                  "CRE": "820-877"
                },
                "color": "#e362d4",
                "styles": {},
                "label": "Info Necessary for Deployers to Interpret/Use Output",
                "scale_factor": 1,
                "type": "#e362d4",
                "size": [
                  55,
                  55
                ],
                "position": [
                  0,
                  0
                ]
              },
              {
                "id": "ART13-9",
                "properties": {
                  "label": "Pre-determined Confirmity Changes to System / Performance",
                  "Article": 13,
                  "URL": "https://artificialintelligenceact.com/title-iii/chapter-2/article-13/",
                  "CRE": "820-877"
                },
                "color": "#e362d4",
                "styles": {},
                "label": "Pre-determined Confirmity Changes to System / Performance",
                "scale_factor": 1,
                "type": "#e362d4",
                "size": [
                  55,
                  55
                ],
                "position": [
                  0,
                  0
                ]
              },
              {
                "id": "ART13-10",
                "properties": {
                  "label": "Human Oversight Measures",
                  "Article": 13,
                  "URL": "https://artificialintelligenceact.com/title-iii/chapter-2/article-13/",
                  "CRE": "820-877"
                },
                "color": "#e362d4",
                "styles": {},
                "label": "Human Oversight Measures",
                "scale_factor": 1,
                "type": "#e362d4",
                "size": [
                  55,
                  55
                ],
                "position": [
                  0,
                  0
                ]
              },
              {
                "id": "ART13-11",
                "properties": {
                  "label": "Computer Resources Needed and Maintenance Measures",
                  "Article": 13,
                  "URL": "https://artificialintelligenceact.com/title-iii/chapter-2/article-13/",
                  "CRE": "820-877"
                },
                "color": "#e362d4",
                "styles": {},
                "label": "Computer Resources Needed and Maintenance Measures",
                "scale_factor": 1,
                "type": "#e362d4",
                "size": [
                  55,
                  55
                ],
                "position": [
                  0,
                  0
                ]
              },
              {
                "id": "ART13-12",
                "properties": {
                  "label": "Mechanisms to Collect, Store and Interpret Logs",
                  "Article": 13,
                  "URL": "https://artificialintelligenceact.com/title-iii/chapter-2/article-13/",
                  "CRE": "842-876"
                },
                "color": "#e362d4",
                "styles": {},
                "label": "Mechanisms to Collect, Store and Interpret Logs",
                "scale_factor": 1,
                "type": "#e362d4",
                "size": [
                  55,
                  55
                ],
                "position": [
                  0,
                  0
                ]
              },
              {
                "id": "ART16-1",
                "properties": {
                  "label": "Compliance with Ch2 (High Risk AI System Reqs)",
                  "Article": 16,
                  "URL": "https://artificialintelligenceact.com/title-iii/chapter-3/article-16/",
                  "CRE": "464-513"
                },
                "color": "#e8a876",
                "styles": {},
                "label": "Compliance with Ch2 (High Risk AI System Reqs)",
                "scale_factor": 1,
                "type": "#e8a876",
                "size": [
                  55,
                  55
                ],
                "position": [
                  0,
                  0
                ]
              },
              {
                "id": "ART16-2",
                "properties": {
                  "label": "Indicate Name, TM, Contact Address",
                  "Article": 16,
                  "URL": "https://artificialintelligenceact.com/title-iii/chapter-3/article-16/",
                  "CRE": "820-877"
                },
                "color": "#e8a876",
                "styles": {},
                "label": "Indicate Name, TM, Contact Address",
                "scale_factor": 1,
                "type": "#e8a876",
                "size": [
                  55,
                  55
                ],
                "position": [
                  0,
                  0
                ]
              },
              {
                "id": "ART16-3",
                "properties": {
                  "label": "Quality Management System",
                  "Article": 16,
                  "URL": "https://artificialintelligenceact.com/title-iii/chapter-3/article-16/",
                  "CRE": "464-513"
                },
                "color": "#e8a876",
                "styles": {},
                "label": "Quality Management System",
                "scale_factor": 1,
                "type": "#e8a876",
                "size": [
                  55,
                  55
                ],
                "position": [
                  0,
                  0
                ]
              },
              {
                "id": "ART16-4",
                "properties": {
                  "label": "Documentation",
                  "Article": 16,
                  "URL": "https://artificialintelligenceact.com/title-iii/chapter-3/article-16/",
                  "CRE": "820-877"
                },
                "color": "#e8a876",
                "styles": {},
                "label": "Documentation",
                "scale_factor": 1,
                "type": "#e8a876",
                "size": [
                  55,
                  55
                ],
                "position": [
                  0,
                  0
                ]
              },
              {
                "id": "ART16-5",
                "properties": {
                  "label": "Logs",
                  "Article": 16,
                  "URL": "https://artificialintelligenceact.com/title-iii/chapter-3/article-16/",
                  "CRE": "842-876"
                },
                "color": "#e8a876",
                "styles": {},
                "label": "Logs",
                "scale_factor": 1,
                "type": "#e8a876",
                "size": [
                  55,
                  55
                ],
                "position": [
                  0,
                  0
                ]
              },
              {
                "id": "ART16-6",
                "properties": {
                  "label": "Conformity Assessment",
                  "Article": 16,
                  "URL": "https://artificialintelligenceact.com/title-iii/chapter-3/article-16/",
                  "CRE": "464-513"
                },
                "color": "#e8a876",
                "styles": {},
                "label": "Conformity Assessment",
                "scale_factor": 1,
                "type": "#e8a876",
                "size": [
                  55,
                  55
                ],
                "position": [
                  0,
                  0
                ]
              },
              {
                "id": "ART16-7",
                "properties": {
                  "label": "Conformity Declaration",
                  "Article": 16,
                  "URL": "https://artificialintelligenceact.com/title-iii/chapter-3/article-16/",
                  "CRE": "464-513"
                },
                "color": "#e8a876",
                "styles": {},
                "label": "Conformity Declaration",
                "scale_factor": 1,
                "type": "#e8a876",
                "size": [
                  55,
                  55
                ],
                "position": [
                  0,
                  0
                ]
              },
              {
                "id": "ART16-8",
                "properties": {
                  "label": "Affix CE Marking",
                  "Article": 16,
                  "URL": "https://artificialintelligenceact.com/title-iii/chapter-3/article-16/",
                  "CRE": "464-513"
                },
                "color": "#e8a876",
                "styles": {},
                "label": "Affix CE Marking",
                "scale_factor": 1,
                "type": "#e8a876",
                "size": [
                  55,
                  55
                ],
                "position": [
                  0,
                  0
                ]
              },
              {
                "id": "ART16-9",
                "properties": {
                  "label": "Registration",
                  "Article": 16,
                  "URL": "https://artificialintelligenceact.com/title-iii/chapter-3/article-16/",
                  "CRE": "510-324"
                },
                "color": "#e8a876",
                "styles": {},
                "label": "Registration",
                "scale_factor": 1,
                "type": "#e8a876",
                "size": [
                  55,
                  55
                ],
                "position": [
                  0,
                  0
                ]
              },
              {
                "id": "ART16-10",
                "properties": {
                  "label": "Corrective Action / Duty of Information",
                  "Article": 16,
                  "URL": "https://artificialintelligenceact.com/title-iii/chapter-3/article-16/",
                  "CRE": "887-750"
                },
                "color": "#e8a876",
                "styles": {},
                "label": "Corrective Action / Duty of Information",
                "scale_factor": 1,
                "type": "#e8a876",
                "size": [
                  55,
                  55
                ],
                "position": [
                  0,
                  0
                ]
              },
              {
                "id": "ART16-11",
                "properties": {
                  "label": "Regulatory Cooperation (Demonstrate Conformity)",
                  "Article": 16,
                  "URL": "https://artificialintelligenceact.com/title-iii/chapter-3/article-16/",
                  "CRE": "464-513"
                },
                "color": "#e8a876",
                "styles": {},
                "label": "Regulatory Cooperation (Demonstrate Conformity)",
                "scale_factor": 1,
                "type": "#e8a876",
                "size": [
                  55,
                  55
                ],
                "position": [
                  0,
                  0
                ]
              },
              {
                "id": "ART16-12",
                "properties": {
                  "label": "Accessibility Requirements",
                  "Article": 16,
                  "URL": "https://artificialintelligenceact.com/title-iii/chapter-3/article-16/",
                  "CRE": "510-324"
                },
                "color": "#e8a876",
                "styles": {},
                "label": "Accessibility Requirements",
                "scale_factor": 1,
                "type": "#e8a876",
                "size": [
                  55,
                  55
                ],
                "position": [
                  0,
                  0
                ]
              },
              {
                "id": "ART17-1",
                "properties": {
                  "label": "Strategy for Regulatory Compliance",
                  "Article": 17,
                  "URL": "https://artificialintelligenceact.com/title-iii/chapter-3/article-17/",
                  "CRE": "510-324"
                },
                "color": "#93e876",
                "styles": {},
                "label": "Strategy for Regulatory Compliance",
                "scale_factor": 1,
                "type": "#93e876",
                "size": [
                  55,
                  55
                ],
                "position": [
                  0,
                  0
                ]
              },
              {
                "id": "ART17-2",
                "properties": {
                  "label": "Design, Design Control and Design Verification Measures",
                  "Article": 17,
                  "URL": "https://artificialintelligenceact.com/title-iii/chapter-3/article-17/",
                  "CRE": "326-704"
                },
                "color": "#93e876",
                "styles": {},
                "label": "Design, Design Control and Design Verification Measures",
                "scale_factor": 1,
                "type": "#93e876",
                "size": [
                  55,
                  55
                ],
                "position": [
                  0,
                  0
                ]
              },
              {
                "id": "ART17-3",
                "properties": {
                  "label": "Development , Quality Control and QA Measures",
                  "Article": 17,
                  "URL": "https://artificialintelligenceact.com/title-iii/chapter-3/article-17/",
                  "CRE": "433-442"
                },
                "color": "#93e876",
                "styles": {},
                "label": "Development , Quality Control and QA Measures",
                "scale_factor": 1,
                "type": "#93e876",
                "size": [
                  55,
                  55
                ],
                "position": [
                  0,
                  0
                ]
              },
              {
                "id": "ART17-4",
                "properties": {
                  "label": "Examination, Test & Validation Measures and Frequency",
                  "Article": 17,
                  "URL": "https://artificialintelligenceact.com/title-iii/chapter-3/article-17/",
                  "CRE": "433-442"
                },
                "color": "#93e876",
                "styles": {},
                "label": "Examination, Test & Validation Measures and Frequency",
                "scale_factor": 1,
                "type": "#93e876",
                "size": [
                  55,
                  55
                ],
                "position": [
                  0,
                  0
                ]
              },
              {
                "id": "ART17-5",
                "properties": {
                  "label": "Technical Specifications to be Applied",
                  "Article": 17,
                  "URL": "https://artificialintelligenceact.com/title-iii/chapter-3/article-17/",
                  "CRE": "787-638"
                },
                "color": "#93e876",
                "styles": {},
                "label": "Technical Specifications to be Applied",
                "scale_factor": 1,
                "type": "#93e876",
                "size": [
                  55,
                  55
                ],
                "position": [
                  0,
                  0
                ]
              },
              {
                "id": "ART17-6",
                "properties": {
                  "label": "Data Management Systems and Procedures",
                  "Article": 17,
                  "URL": "https://artificialintelligenceact.com/title-iii/chapter-3/article-17/",
                  "CRE": "126-668"
                },
                "color": "#93e876",
                "styles": {},
                "label": "Data Management Systems and Procedures",
                "scale_factor": 1,
                "type": "#93e876",
                "size": [
                  55,
                  55
                ],
                "position": [
                  0,
                  0
                ]
              },
              {
                "id": "ART17-7",
                "properties": {
                  "label": "Risk Management System",
                  "Article": 17,
                  "URL": "https://artificialintelligenceact.com/title-iii/chapter-3/article-17/",
                  "CRE": "307-242"
                },
                "color": "#93e876",
                "styles": {},
                "label": "Risk Management System",
                "scale_factor": 1,
                "type": "#93e876",
                "size": [
                  55,
                  55
                ],
                "position": [
                  0,
                  0
                ]
              },
              {
                "id": "ART17-8",
                "properties": {
                  "label": "Implement Post-Market Monitoring System",
                  "Article": 17,
                  "URL": "https://artificialintelligenceact.com/title-iii/chapter-3/article-17/",
                  "CRE": "887-750"
                },
                "color": "#93e876",
                "styles": {},
                "label": "Implement Post-Market Monitoring System",
                "scale_factor": 1,
                "type": "#93e876",
                "size": [
                  55,
                  55
                ],
                "position": [
                  0,
                  0
                ]
              },
              {
                "id": "ART17-9",
                "properties": {
                  "label": "Serious Incident Reporting Procedures",
                  "Article": 17,
                  "URL": "https://artificialintelligenceact.com/title-iii/chapter-3/article-17/",
                  "CRE": "463-577"
                },
                "color": "#93e876",
                "styles": {},
                "label": "Serious Incident Reporting Procedures",
                "scale_factor": 1,
                "type": "#93e876",
                "size": [
                  55,
                  55
                ],
                "position": [
                  0,
                  0
                ]
              },
              {
                "id": "ART17-10",
                "properties": {
                  "label": "Communication with National Competent Authorities",
                  "Article": 17,
                  "URL": "https://artificialintelligenceact.com/title-iii/chapter-3/article-17/",
                  "CRE": "510-324"
                },
                "color": "#93e876",
                "styles": {},
                "label": "Communication with National Competent Authorities",
                "scale_factor": 1,
                "type": "#93e876",
                "size": [
                  55,
                  55
                ],
                "position": [
                  0,
                  0
                ]
              },
              {
                "id": "ART17-11",
                "properties": {
                  "label": "Resource Management",
                  "Article": 17,
                  "URL": "https://artificialintelligenceact.com/title-iii/chapter-3/article-17/",
                  "CRE": "563-088"
                },
                "color": "#93e876",
                "styles": {},
                "label": "Resource Management",
                "scale_factor": 1,
                "type": "#93e876",
                "size": [
                  55,
                  55
                ],
                "position": [
                  0,
                  0
                ]
              },
              {
                "id": "ART17-12",
                "properties": {
                  "label": "Accountability Framework",
                  "Article": 17,
                  "URL": "https://artificialintelligenceact.com/title-iii/chapter-3/article-17/",
                  "CRE": "427-113"
                },
                "color": "#93e876",
                "styles": {},
                "label": "Accountability Framework",
                "scale_factor": 1,
                "type": "#93e876",
                "size": [
                  55,
                  55
                ],
                "position": [
                  0,
                  0
                ]
              },
              {
                "id": "ART9",
                "properties": {
                  "label": "Risk Management System",
                  "Article": 9,
                  "URL": "https://artificialintelligenceact.com/title-iii/chapter-2/article-9/",
                  "CRE": "307-242"
                },
                "color": "#e362d4",
                "styles": {},
                "label": "Risk Management System",
                "scale_factor": 1,
                "type": "#e362d4",
                "size": [
                  55,
                  55
                ],
                "position": [
                  0,
                  0
                ]
              },
              {
                "id": "ART10",
                "properties": {
                  "label": "Data & Data Governance",
                  "Article": 10,
                  "URL": "https://artificialintelligenceact.com/title-iii/chapter-2/article-10/",
                  "CRE": "287-823"
                },
                "color": "#e362d4",
                "styles": {},
                "label": "Data & Data Governance",
                "scale_factor": 1,
                "type": "#e362d4",
                "size": [
                  55,
                  55
                ],
                "position": [
                  0,
                  0
                ]
              },
              {
                "id": "ART11",
                "properties": {
                  "label": "Technical Documentation",
                  "Article": 11,
                  "URL": "https://artificialintelligenceact.com/title-iii/chapter-2/article-11/",
                  "CRE": "820-877"
                },
                "color": "#e362d4",
                "styles": {},
                "label": "Technical Documentation",
                "scale_factor": 1,
                "type": "#e362d4",
                "size": [
                  55,
                  55
                ],
                "position": [
                  0,
                  0
                ]
              },
              {
                "id": "ART12",
                "properties": {
                  "label": "Record Keeping (Logs)",
                  "Article": 12,
                  "URL": "https://artificialintelligenceact.com/title-iii/chapter-2/article-12/",
                  "CRE": "842-876"
                },
                "color": "#e362d4",
                "styles": {},
                "label": "Record Keeping (Logs)",
                "scale_factor": 1,
                "type": "#e362d4",
                "size": [
                  55,
                  55
                ],
                "position": [
                  0,
                  0
                ]
              },
              {
                "id": "ART13",
                "properties": {
                  "label": "Transparency & Use Instructions for Deployers",
                  "Article": 13,
                  "URL": "https://artificialintelligenceact.com/title-iii/chapter-2/article-13/",
                  "CRE": "820-877"
                },
                "color": "#e362d4",
                "styles": {},
                "label": "Transparency & Use Instructions for Deployers",
                "scale_factor": 1,
                "type": "#e362d4",
                "size": [
                  55,
                  55
                ],
                "position": [
                  0,
                  0
                ]
              },
              {
                "id": "ART14",
                "properties": {
                  "label": "Design/Develop to enable Human Oversight",
                  "Article": 14,
                  "URL": "https://artificialintelligenceact.com/title-iii/chapter-2/article-14/",
                  "CRE": "433-342"
                },
                "color": "#e362d4",
                "styles": {},
                "label": "Design/Develop to enable Human Oversight",
                "scale_factor": 1,
                "type": "#e362d4",
                "size": [
                  55,
                  55
                ],
                "position": [
                  0,
                  0
                ]
              },
              {
                "id": "ART15",
                "properties": {
                  "label": "Accuracy, Robustness & Cybersecurity",
                  "Article": 15,
                  "URL": "https://artificialintelligenceact.com/title-iii/chapter-2/article-15/",
                  "CRE": "464-513"
                },
                "color": "#e362d4",
                "styles": {},
                "label": "Accuracy, Robustness & Cybersecurity",
                "scale_factor": 1,
                "type": "#e362d4",
                "size": [
                  55,
                  55
                ],
                "position": [
                  0,
                  0
                ]
              },
              {
                "id": "ART18-1",
                "properties": {
                  "label": "Changes Approved by Notified Bodies",
                  "Article": 18,
                  "URL": "https://artificialintelligenceact.com/title-iii/chapter-3/article-18/",
                  "CRE": "124-564"
                },
                "color": "#FF6347",
                "styles": {},
                "label": "Changes Approved by Notified Bodies",
                "scale_factor": 1,
                "type": "#FF6347",
                "size": [
                  55,
                  55
                ],
                "position": [
                  0,
                  0
                ]
              },
              {
                "id": "ART18-2",
                "properties": {
                  "label": "Decisions/Documents Issues by Notified Bodies",
                  "Article": 18,
                  "URL": "https://artificialintelligenceact.com/title-iii/chapter-3/article-18/",
                  "CRE": "464-513"
                },
                "color": "#FF6347",
                "styles": {},
                "label": "Decisions/Documents Issues by Notified Bodies",
                "scale_factor": 1,
                "type": "#FF6347",
                "size": [
                  55,
                  55
                ],
                "position": [
                  0,
                  0
                ]
              },
              {
                "id": "ART18-3",
                "properties": {
                  "label": "EU Declaration of Conformity",
                  "Article": 18,
                  "URL": "https://artificialintelligenceact.com/title-iii/chapter-3/article-18/",
                  "CRE": "464-513"
                },
                "color": "#FF6347",
                "styles": {},
                "label": "EU Declaration of Conformity",
                "scale_factor": 1,
                "type": "#FF6347",
                "size": [
                  55,
                  55
                ],
                "position": [
                  0,
                  0
                ]
              },
              {
                "id": "ART51-1",
                "properties": {
                  "label": "Register High Risk AI System Provider",
                  "Article": 51,
                  "URL": "https://artificialintelligenceact.com/title-iii/chapter-5/article-51/",
                  "CRE": "766-162"
                },
                "color": "#76c0e8",
                "styles": {},
                "label": "Register High Risk AI System Provider",
                "scale_factor": 1,
                "type": "#76c0e8",
                "size": [
                  55,
                  55
                ],
                "position": [
                  0,
                  0
                ]
              },
              {
                "id": "ART51-2",
                "properties": {
                  "label": "Register High Risk AI System",
                  "Article": 51,
                  "URL": "https://artificialintelligenceact.com/title-iii/chapter-5/article-51/",
                  "CRE": "766-162"
                },
                "color": "#76c0e8",
                "styles": {},
                "label": "Register High Risk AI System",
                "scale_factor": 1,
                "type": "#76c0e8",
                "size": [
                  55,
                  55
                ],
                "position": [
                  0,
                  0
                ]
              }
            ],
            "_overview": {
              "enabled": null,
              "overview_set": false
            },
            "_selected_graph": [
              [],
              []
            ],
            "_sidebar": {
              "enabled": false,
              "start_with": null
            },
            "_view_count": null,
            "_view_module": "yfiles-jupyter-graphs",
            "_view_module_version": "^1.10.1",
            "_view_name": "GraphView",
            "layout": "IPY_MODEL_a17a6cbc9ca94085844fbcd3c89800ce",
            "tabbable": null,
            "tooltip": null
          }
        },
        "a17a6cbc9ca94085844fbcd3c89800ce": {
          "model_module": "@jupyter-widgets/base",
          "model_name": "LayoutModel",
          "model_module_version": "2.0.0",
          "state": {
            "_model_module": "@jupyter-widgets/base",
            "_model_module_version": "2.0.0",
            "_model_name": "LayoutModel",
            "_view_count": null,
            "_view_module": "@jupyter-widgets/base",
            "_view_module_version": "2.0.0",
            "_view_name": "LayoutView",
            "align_content": null,
            "align_items": null,
            "align_self": null,
            "border_bottom": null,
            "border_left": null,
            "border_right": null,
            "border_top": null,
            "bottom": null,
            "display": null,
            "flex": null,
            "flex_flow": null,
            "grid_area": null,
            "grid_auto_columns": null,
            "grid_auto_flow": null,
            "grid_auto_rows": null,
            "grid_column": null,
            "grid_gap": null,
            "grid_row": null,
            "grid_template_areas": null,
            "grid_template_columns": null,
            "grid_template_rows": null,
            "height": "800px",
            "justify_content": null,
            "justify_items": null,
            "left": null,
            "margin": null,
            "max_height": null,
            "max_width": null,
            "min_height": null,
            "min_width": null,
            "object_fit": null,
            "object_position": null,
            "order": null,
            "overflow": null,
            "padding": null,
            "right": null,
            "top": null,
            "visibility": null,
            "width": "100%"
          }
        },
        "bf572f50025e4cf9a4fd7bd9cc401870": {
          "model_module": "yfiles-jupyter-graphs",
          "model_name": "GraphModel",
          "model_module_version": "^1.10.1",
          "state": {
            "_context_pane_mapping": [
              {
                "id": "Neighborhood",
                "title": "Neighborhood"
              },
              {
                "id": "Data",
                "title": "Data"
              },
              {
                "id": "Search",
                "title": "Search"
              },
              {
                "id": "About",
                "title": "About"
              }
            ],
            "_data_importer": "unknown",
            "_directed": true,
            "_dom_classes": [],
            "_edges": [
              {
                "id": 1,
                "start": "ART16-3",
                "end": "ART17-1",
                "properties": {
                  "label": "TO_INCLUDE"
                },
                "color": "#15AFAC",
                "thickness_factor": 1,
                "directed": true,
                "styles": {},
                "label": "TO_INCLUDE"
              },
              {
                "id": 2,
                "start": "ART16-3",
                "end": "ART17-2",
                "properties": {
                  "label": "TO_INCLUDE"
                },
                "color": "#15AFAC",
                "thickness_factor": 1,
                "directed": true,
                "styles": {},
                "label": "TO_INCLUDE"
              },
              {
                "id": 3,
                "start": "ART16-3",
                "end": "ART17-3",
                "properties": {
                  "label": "TO_INCLUDE"
                },
                "color": "#15AFAC",
                "thickness_factor": 1,
                "directed": true,
                "styles": {},
                "label": "TO_INCLUDE"
              },
              {
                "id": 4,
                "start": "ART16-3",
                "end": "ART17-4",
                "properties": {
                  "label": "TO_INCLUDE"
                },
                "color": "#15AFAC",
                "thickness_factor": 1,
                "directed": true,
                "styles": {},
                "label": "TO_INCLUDE"
              },
              {
                "id": 5,
                "start": "ART16-3",
                "end": "ART17-6",
                "properties": {
                  "label": "TO_INCLUDE"
                },
                "color": "#15AFAC",
                "thickness_factor": 1,
                "directed": true,
                "styles": {},
                "label": "TO_INCLUDE"
              },
              {
                "id": 6,
                "start": "ART16-3",
                "end": "ART17-7",
                "properties": {
                  "label": "TO_INCLUDE"
                },
                "color": "#15AFAC",
                "thickness_factor": 1,
                "directed": true,
                "styles": {},
                "label": "TO_INCLUDE"
              },
              {
                "id": 7,
                "start": "ART16-3",
                "end": "ART17-8",
                "properties": {
                  "label": "TO_INCLUDE"
                },
                "color": "#15AFAC",
                "thickness_factor": 1,
                "directed": true,
                "styles": {},
                "label": "TO_INCLUDE"
              },
              {
                "id": 8,
                "start": "ART16-3",
                "end": "ART17-9",
                "properties": {
                  "label": "TO_INCLUDE"
                },
                "color": "#15AFAC",
                "thickness_factor": 1,
                "directed": true,
                "styles": {},
                "label": "TO_INCLUDE"
              },
              {
                "id": 9,
                "start": "ART16-3",
                "end": "ART17-10",
                "properties": {
                  "label": "TO_INCLUDE"
                },
                "color": "#15AFAC",
                "thickness_factor": 1,
                "directed": true,
                "styles": {},
                "label": "TO_INCLUDE"
              },
              {
                "id": 10,
                "start": "ART16-3",
                "end": "ART17-11",
                "properties": {
                  "label": "TO_INCLUDE"
                },
                "color": "#15AFAC",
                "thickness_factor": 1,
                "directed": true,
                "styles": {},
                "label": "TO_INCLUDE"
              },
              {
                "id": 11,
                "start": "ART16-3",
                "end": "ART17-12",
                "properties": {
                  "label": "TO_INCLUDE"
                },
                "color": "#15AFAC",
                "thickness_factor": 1,
                "directed": true,
                "styles": {},
                "label": "TO_INCLUDE"
              },
              {
                "id": 12,
                "start": "ART16-3",
                "end": "ART16-4",
                "properties": {
                  "label": "TO_INCLUDE"
                },
                "color": "#15AFAC",
                "thickness_factor": 1,
                "directed": true,
                "styles": {},
                "label": "TO_INCLUDE"
              },
              {
                "id": 13,
                "start": "ART16-10",
                "end": "ART17-9",
                "properties": {
                  "label": "SEE_ALSO"
                },
                "color": "#15AFAC",
                "thickness_factor": 1,
                "directed": true,
                "styles": {},
                "label": "SEE_ALSO"
              },
              {
                "id": 14,
                "start": "ART16-1",
                "end": "ART9",
                "properties": {
                  "label": "REQUIRES"
                },
                "color": "#15AFAC",
                "thickness_factor": 1,
                "directed": true,
                "styles": {},
                "label": "REQUIRES"
              },
              {
                "id": 15,
                "start": "ART16-1",
                "end": "ART10",
                "properties": {
                  "label": "REQUIRES"
                },
                "color": "#15AFAC",
                "thickness_factor": 1,
                "directed": true,
                "styles": {},
                "label": "REQUIRES"
              },
              {
                "id": 16,
                "start": "ART16-1",
                "end": "ART11",
                "properties": {
                  "label": "REQUIRES"
                },
                "color": "#15AFAC",
                "thickness_factor": 1,
                "directed": true,
                "styles": {},
                "label": "REQUIRES"
              },
              {
                "id": 17,
                "start": "ART16-1",
                "end": "ART12",
                "properties": {
                  "label": "REQUIRES"
                },
                "color": "#15AFAC",
                "thickness_factor": 1,
                "directed": true,
                "styles": {},
                "label": "REQUIRES"
              },
              {
                "id": 18,
                "start": "ART16-1",
                "end": "ART13",
                "properties": {
                  "label": "REQUIRES"
                },
                "color": "#15AFAC",
                "thickness_factor": 1,
                "directed": true,
                "styles": {},
                "label": "REQUIRES"
              },
              {
                "id": 19,
                "start": "ART16-1",
                "end": "ART14",
                "properties": {
                  "label": "REQUIRES"
                },
                "color": "#15AFAC",
                "thickness_factor": 1,
                "directed": true,
                "styles": {},
                "label": "REQUIRES"
              },
              {
                "id": 20,
                "start": "ART16-1",
                "end": "ART15",
                "properties": {
                  "label": "REQUIRES"
                },
                "color": "#15AFAC",
                "thickness_factor": 1,
                "directed": true,
                "styles": {},
                "label": "REQUIRES"
              },
              {
                "id": 22,
                "start": "ART16-4",
                "end": "ART11",
                "properties": {
                  "label": "RELATED_TO"
                },
                "color": "#15AFAC",
                "thickness_factor": 1,
                "directed": true,
                "styles": {},
                "label": "RELATED_TO"
              },
              {
                "id": 23,
                "start": "ART16-4",
                "end": "ART18-1",
                "properties": {
                  "label": "REQUIRES"
                },
                "color": "#15AFAC",
                "thickness_factor": 1,
                "directed": true,
                "styles": {},
                "label": "REQUIRES"
              },
              {
                "id": 24,
                "start": "ART16-4",
                "end": "ART18-2",
                "properties": {
                  "label": "REQUIRES"
                },
                "color": "#15AFAC",
                "thickness_factor": 1,
                "directed": true,
                "styles": {},
                "label": "REQUIRES"
              },
              {
                "id": 25,
                "start": "ART16-4",
                "end": "ART18-3",
                "properties": {
                  "label": "REQUIRES"
                },
                "color": "#15AFAC",
                "thickness_factor": 1,
                "directed": true,
                "styles": {},
                "label": "REQUIRES"
              },
              {
                "id": 26,
                "start": "ART16-5",
                "end": "ART12",
                "properties": {
                  "label": "RELATED_TO"
                },
                "color": "#15AFAC",
                "thickness_factor": 1,
                "directed": true,
                "styles": {},
                "label": "RELATED_TO"
              },
              {
                "id": 27,
                "start": "ART16-9",
                "end": "ART51-1",
                "properties": {
                  "label": "REQUIRES"
                },
                "color": "#15AFAC",
                "thickness_factor": 1,
                "directed": true,
                "styles": {},
                "label": "REQUIRES"
              },
              {
                "id": 28,
                "start": "ART16-9",
                "end": "ART51-2",
                "properties": {
                  "label": "REQUIRES"
                },
                "color": "#15AFAC",
                "thickness_factor": 1,
                "directed": true,
                "styles": {},
                "label": "REQUIRES"
              }
            ],
            "_graph_layout": {},
            "_highlight": [],
            "_license": {},
            "_model_module": "yfiles-jupyter-graphs",
            "_model_module_version": "^1.10.1",
            "_model_name": "GraphModel",
            "_neighborhood": {},
            "_nodes": [
              {
                "id": "ART16-1",
                "properties": {
                  "label": "Compliance with Ch2 (High Risk AI System Reqs)",
                  "Article": 16,
                  "URL": "https://artificialintelligenceact.com/title-iii/chapter-3/article-16/",
                  "CRE": "464-513"
                },
                "color": "#e8a876",
                "styles": {},
                "label": "Compliance with Ch2 (High Risk AI System Reqs)",
                "scale_factor": 1,
                "type": "#e8a876",
                "size": [
                  55,
                  55
                ],
                "position": [
                  0,
                  0
                ]
              },
              {
                "id": "ART16-2",
                "properties": {
                  "label": "Indicate Name, TM, Contact Address",
                  "Article": 16,
                  "URL": "https://artificialintelligenceact.com/title-iii/chapter-3/article-16/",
                  "CRE": "820-877"
                },
                "color": "#e8a876",
                "styles": {},
                "label": "Indicate Name, TM, Contact Address",
                "scale_factor": 1,
                "type": "#e8a876",
                "size": [
                  55,
                  55
                ],
                "position": [
                  0,
                  0
                ]
              },
              {
                "id": "ART16-3",
                "properties": {
                  "label": "Quality Management System",
                  "Article": 16,
                  "URL": "https://artificialintelligenceact.com/title-iii/chapter-3/article-16/",
                  "CRE": "464-513"
                },
                "color": "#e8a876",
                "styles": {},
                "label": "Quality Management System",
                "scale_factor": 1,
                "type": "#e8a876",
                "size": [
                  55,
                  55
                ],
                "position": [
                  0,
                  0
                ]
              },
              {
                "id": "ART16-4",
                "properties": {
                  "label": "Documentation",
                  "Article": 16,
                  "URL": "https://artificialintelligenceact.com/title-iii/chapter-3/article-16/",
                  "CRE": "820-877"
                },
                "color": "#e8a876",
                "styles": {},
                "label": "Documentation",
                "scale_factor": 1,
                "type": "#e8a876",
                "size": [
                  55,
                  55
                ],
                "position": [
                  0,
                  0
                ]
              },
              {
                "id": "ART16-5",
                "properties": {
                  "label": "Logs",
                  "Article": 16,
                  "URL": "https://artificialintelligenceact.com/title-iii/chapter-3/article-16/",
                  "CRE": "842-876"
                },
                "color": "#e8a876",
                "styles": {},
                "label": "Logs",
                "scale_factor": 1,
                "type": "#e8a876",
                "size": [
                  55,
                  55
                ],
                "position": [
                  0,
                  0
                ]
              },
              {
                "id": "ART16-6",
                "properties": {
                  "label": "Conformity Assessment",
                  "Article": 16,
                  "URL": "https://artificialintelligenceact.com/title-iii/chapter-3/article-16/",
                  "CRE": "464-513"
                },
                "color": "#e8a876",
                "styles": {},
                "label": "Conformity Assessment",
                "scale_factor": 1,
                "type": "#e8a876",
                "size": [
                  55,
                  55
                ],
                "position": [
                  0,
                  0
                ]
              },
              {
                "id": "ART16-7",
                "properties": {
                  "label": "Conformity Declaration",
                  "Article": 16,
                  "URL": "https://artificialintelligenceact.com/title-iii/chapter-3/article-16/",
                  "CRE": "464-513"
                },
                "color": "#e8a876",
                "styles": {},
                "label": "Conformity Declaration",
                "scale_factor": 1,
                "type": "#e8a876",
                "size": [
                  55,
                  55
                ],
                "position": [
                  0,
                  0
                ]
              },
              {
                "id": "ART16-8",
                "properties": {
                  "label": "Affix CE Marking",
                  "Article": 16,
                  "URL": "https://artificialintelligenceact.com/title-iii/chapter-3/article-16/",
                  "CRE": "464-513"
                },
                "color": "#e8a876",
                "styles": {},
                "label": "Affix CE Marking",
                "scale_factor": 1,
                "type": "#e8a876",
                "size": [
                  55,
                  55
                ],
                "position": [
                  0,
                  0
                ]
              },
              {
                "id": "ART16-9",
                "properties": {
                  "label": "Registration",
                  "Article": 16,
                  "URL": "https://artificialintelligenceact.com/title-iii/chapter-3/article-16/",
                  "CRE": "510-324"
                },
                "color": "#e8a876",
                "styles": {},
                "label": "Registration",
                "scale_factor": 1,
                "type": "#e8a876",
                "size": [
                  55,
                  55
                ],
                "position": [
                  0,
                  0
                ]
              },
              {
                "id": "ART16-10",
                "properties": {
                  "label": "Corrective Action / Duty of Information",
                  "Article": 16,
                  "URL": "https://artificialintelligenceact.com/title-iii/chapter-3/article-16/",
                  "CRE": "887-750"
                },
                "color": "#e8a876",
                "styles": {},
                "label": "Corrective Action / Duty of Information",
                "scale_factor": 1,
                "type": "#e8a876",
                "size": [
                  55,
                  55
                ],
                "position": [
                  0,
                  0
                ]
              },
              {
                "id": "ART16-11",
                "properties": {
                  "label": "Regulatory Cooperation (Demonstrate Conformity)",
                  "Article": 16,
                  "URL": "https://artificialintelligenceact.com/title-iii/chapter-3/article-16/",
                  "CRE": "464-513"
                },
                "color": "#e8a876",
                "styles": {},
                "label": "Regulatory Cooperation (Demonstrate Conformity)",
                "scale_factor": 1,
                "type": "#e8a876",
                "size": [
                  55,
                  55
                ],
                "position": [
                  0,
                  0
                ]
              },
              {
                "id": "ART16-12",
                "properties": {
                  "label": "Accessibility Requirements",
                  "Article": 16,
                  "URL": "https://artificialintelligenceact.com/title-iii/chapter-3/article-16/",
                  "CRE": "510-324"
                },
                "color": "#e8a876",
                "styles": {},
                "label": "Accessibility Requirements",
                "scale_factor": 1,
                "type": "#e8a876",
                "size": [
                  55,
                  55
                ],
                "position": [
                  0,
                  0
                ]
              }
            ],
            "_overview": {
              "enabled": null,
              "overview_set": false
            },
            "_selected_graph": [
              [
                {
                  "id": "ART16-1",
                  "properties": {
                    "label": "Compliance with Ch2 (High Risk AI System Reqs)",
                    "Article": 16,
                    "URL": "https://artificialintelligenceact.com/title-iii/chapter-3/article-16/",
                    "CRE": "464-513"
                  }
                }
              ],
              []
            ],
            "_sidebar": {
              "enabled": false,
              "start_with": null
            },
            "_view_count": null,
            "_view_module": "yfiles-jupyter-graphs",
            "_view_module_version": "^1.10.1",
            "_view_name": "GraphView",
            "layout": "IPY_MODEL_78421a2f12dd4880a2f08a1c8bdf547b",
            "tabbable": null,
            "tooltip": null
          }
        },
        "78421a2f12dd4880a2f08a1c8bdf547b": {
          "model_module": "@jupyter-widgets/base",
          "model_name": "LayoutModel",
          "model_module_version": "2.0.0",
          "state": {
            "_model_module": "@jupyter-widgets/base",
            "_model_module_version": "2.0.0",
            "_model_name": "LayoutModel",
            "_view_count": null,
            "_view_module": "@jupyter-widgets/base",
            "_view_module_version": "2.0.0",
            "_view_name": "LayoutView",
            "align_content": null,
            "align_items": null,
            "align_self": null,
            "border_bottom": null,
            "border_left": null,
            "border_right": null,
            "border_top": null,
            "bottom": null,
            "display": null,
            "flex": null,
            "flex_flow": null,
            "grid_area": null,
            "grid_auto_columns": null,
            "grid_auto_flow": null,
            "grid_auto_rows": null,
            "grid_column": null,
            "grid_gap": null,
            "grid_row": null,
            "grid_template_areas": null,
            "grid_template_columns": null,
            "grid_template_rows": null,
            "height": "620px",
            "justify_content": null,
            "justify_items": null,
            "left": null,
            "margin": null,
            "max_height": null,
            "max_width": null,
            "min_height": null,
            "min_width": null,
            "object_fit": null,
            "object_position": null,
            "order": null,
            "overflow": null,
            "padding": null,
            "right": null,
            "top": null,
            "visibility": null,
            "width": "100%"
          }
        },
        "7af74ef23cb646569e287e58f916fbb6": {
          "model_module": "yfiles-jupyter-graphs",
          "model_name": "GraphModel",
          "model_module_version": "^1.10.1",
          "state": {
            "_context_pane_mapping": [
              {
                "id": "Neighborhood",
                "title": "Neighborhood"
              },
              {
                "id": "Data",
                "title": "Data"
              },
              {
                "id": "Search",
                "title": "Search"
              },
              {
                "id": "About",
                "title": "About"
              }
            ],
            "_data_importer": "unknown",
            "_directed": true,
            "_dom_classes": [],
            "_edges": [
              {
                "id": 14,
                "start": "ART16-1",
                "end": "ART9",
                "properties": {
                  "label": "REQUIRES"
                },
                "color": "#15AFAC",
                "thickness_factor": 1,
                "directed": true,
                "styles": {},
                "label": "REQUIRES"
              },
              {
                "id": 15,
                "start": "ART16-1",
                "end": "ART10",
                "properties": {
                  "label": "REQUIRES"
                },
                "color": "#15AFAC",
                "thickness_factor": 1,
                "directed": true,
                "styles": {},
                "label": "REQUIRES"
              },
              {
                "id": 16,
                "start": "ART16-1",
                "end": "ART11",
                "properties": {
                  "label": "REQUIRES"
                },
                "color": "#15AFAC",
                "thickness_factor": 1,
                "directed": true,
                "styles": {},
                "label": "REQUIRES"
              },
              {
                "id": 17,
                "start": "ART16-1",
                "end": "ART12",
                "properties": {
                  "label": "REQUIRES"
                },
                "color": "#15AFAC",
                "thickness_factor": 1,
                "directed": true,
                "styles": {},
                "label": "REQUIRES"
              },
              {
                "id": 18,
                "start": "ART16-1",
                "end": "ART13",
                "properties": {
                  "label": "REQUIRES"
                },
                "color": "#15AFAC",
                "thickness_factor": 1,
                "directed": true,
                "styles": {},
                "label": "REQUIRES"
              },
              {
                "id": 19,
                "start": "ART16-1",
                "end": "ART14",
                "properties": {
                  "label": "REQUIRES"
                },
                "color": "#15AFAC",
                "thickness_factor": 1,
                "directed": true,
                "styles": {},
                "label": "REQUIRES"
              },
              {
                "id": 20,
                "start": "ART16-1",
                "end": "ART15",
                "properties": {
                  "label": "REQUIRES"
                },
                "color": "#15AFAC",
                "thickness_factor": 1,
                "directed": true,
                "styles": {},
                "label": "REQUIRES"
              },
              {
                "id": 23,
                "start": "ART16-4",
                "end": "ART18-1",
                "properties": {
                  "label": "REQUIRES"
                },
                "color": "#15AFAC",
                "thickness_factor": 1,
                "directed": true,
                "styles": {},
                "label": "REQUIRES"
              },
              {
                "id": 24,
                "start": "ART16-4",
                "end": "ART18-2",
                "properties": {
                  "label": "REQUIRES"
                },
                "color": "#15AFAC",
                "thickness_factor": 1,
                "directed": true,
                "styles": {},
                "label": "REQUIRES"
              },
              {
                "id": 25,
                "start": "ART16-4",
                "end": "ART18-3",
                "properties": {
                  "label": "REQUIRES"
                },
                "color": "#15AFAC",
                "thickness_factor": 1,
                "directed": true,
                "styles": {},
                "label": "REQUIRES"
              },
              {
                "id": 27,
                "start": "ART16-9",
                "end": "ART51-1",
                "properties": {
                  "label": "REQUIRES"
                },
                "color": "#15AFAC",
                "thickness_factor": 1,
                "directed": true,
                "styles": {},
                "label": "REQUIRES"
              },
              {
                "id": 28,
                "start": "ART16-9",
                "end": "ART51-2",
                "properties": {
                  "label": "REQUIRES"
                },
                "color": "#15AFAC",
                "thickness_factor": 1,
                "directed": true,
                "styles": {},
                "label": "REQUIRES"
              },
              {
                "id": 29,
                "start": "ART13",
                "end": "ART13-1",
                "properties": {
                  "label": "REQUIRES"
                },
                "color": "#15AFAC",
                "thickness_factor": 1,
                "directed": true,
                "styles": {},
                "label": "REQUIRES"
              },
              {
                "id": 30,
                "start": "ART13",
                "end": "ART13-2",
                "properties": {
                  "label": "REQUIRES"
                },
                "color": "#15AFAC",
                "thickness_factor": 1,
                "directed": true,
                "styles": {},
                "label": "REQUIRES"
              },
              {
                "id": 31,
                "start": "ART13",
                "end": "ART13-3",
                "properties": {
                  "label": "REQUIRES"
                },
                "color": "#15AFAC",
                "thickness_factor": 1,
                "directed": true,
                "styles": {},
                "label": "REQUIRES"
              },
              {
                "id": 32,
                "start": "ART13",
                "end": "ART13-4",
                "properties": {
                  "label": "REQUIRES"
                },
                "color": "#15AFAC",
                "thickness_factor": 1,
                "directed": true,
                "styles": {},
                "label": "REQUIRES"
              },
              {
                "id": 33,
                "start": "ART13",
                "end": "ART13-5",
                "properties": {
                  "label": "REQUIRES"
                },
                "color": "#15AFAC",
                "thickness_factor": 1,
                "directed": true,
                "styles": {},
                "label": "REQUIRES"
              },
              {
                "id": 34,
                "start": "ART13",
                "end": "ART13-6",
                "properties": {
                  "label": "REQUIRES"
                },
                "color": "#15AFAC",
                "thickness_factor": 1,
                "directed": true,
                "styles": {},
                "label": "REQUIRES"
              },
              {
                "id": 35,
                "start": "ART13",
                "end": "ART13-7",
                "properties": {
                  "label": "REQUIRES"
                },
                "color": "#15AFAC",
                "thickness_factor": 1,
                "directed": true,
                "styles": {},
                "label": "REQUIRES"
              },
              {
                "id": 36,
                "start": "ART13",
                "end": "ART13-8",
                "properties": {
                  "label": "REQUIRES"
                },
                "color": "#15AFAC",
                "thickness_factor": 1,
                "directed": true,
                "styles": {},
                "label": "REQUIRES"
              },
              {
                "id": 37,
                "start": "ART13",
                "end": "ART13-9",
                "properties": {
                  "label": "REQUIRES"
                },
                "color": "#15AFAC",
                "thickness_factor": 1,
                "directed": true,
                "styles": {},
                "label": "REQUIRES"
              },
              {
                "id": 38,
                "start": "ART13",
                "end": "ART13-10",
                "properties": {
                  "label": "REQUIRES"
                },
                "color": "#15AFAC",
                "thickness_factor": 1,
                "directed": true,
                "styles": {},
                "label": "REQUIRES"
              },
              {
                "id": 39,
                "start": "ART13",
                "end": "ART13-11",
                "properties": {
                  "label": "REQUIRES"
                },
                "color": "#15AFAC",
                "thickness_factor": 1,
                "directed": true,
                "styles": {},
                "label": "REQUIRES"
              },
              {
                "id": 40,
                "start": "ART13",
                "end": "ART13-12",
                "properties": {
                  "label": "REQUIRES"
                },
                "color": "#15AFAC",
                "thickness_factor": 1,
                "directed": true,
                "styles": {},
                "label": "REQUIRES"
              }
            ],
            "_graph_layout": {},
            "_highlight": [],
            "_license": {},
            "_model_module": "yfiles-jupyter-graphs",
            "_model_module_version": "^1.10.1",
            "_model_name": "GraphModel",
            "_neighborhood": {},
            "_nodes": [
              {
                "id": "ART13-1",
                "properties": {
                  "label": "Identity/Contact Details for Provider",
                  "Article": 13,
                  "URL": "https://artificialintelligenceact.com/title-iii/chapter-2/article-13/",
                  "CRE": "820-877"
                },
                "color": "#e362d4",
                "styles": {},
                "label": "Identity/Contact Details for Provider",
                "scale_factor": 1,
                "type": "#e362d4",
                "size": [
                  55,
                  55
                ],
                "position": [
                  0,
                  0
                ]
              },
              {
                "id": "ART13-2",
                "properties": {
                  "label": "Intended Purpose",
                  "Article": 13,
                  "URL": "https://artificialintelligenceact.com/title-iii/chapter-2/article-13/",
                  "CRE": "820-877"
                },
                "color": "#e362d4",
                "styles": {},
                "label": "Intended Purpose",
                "scale_factor": 1,
                "type": "#e362d4",
                "size": [
                  55,
                  55
                ],
                "position": [
                  0,
                  0
                ]
              },
              {
                "id": "ART13-3",
                "properties": {
                  "label": "Accuracy, including Metrics, Robustness & Cybersecurity",
                  "Article": 13,
                  "URL": "https://artificialintelligenceact.com/title-iii/chapter-2/article-13/",
                  "CRE": "820-877"
                },
                "color": "#e362d4",
                "styles": {},
                "label": "Accuracy, including Metrics, Robustness & Cybersecurity",
                "scale_factor": 1,
                "type": "#e362d4",
                "size": [
                  55,
                  55
                ],
                "position": [
                  0,
                  0
                ]
              },
              {
                "id": "ART13-4",
                "properties": {
                  "label": "Risks of Foreseeable Misuse of High Risk AI System",
                  "Article": 13,
                  "URL": "https://artificialintelligenceact.com/title-iii/chapter-2/article-13/",
                  "CRE": "162-655"
                },
                "color": "#e362d4",
                "styles": {},
                "label": "Risks of Foreseeable Misuse of High Risk AI System",
                "scale_factor": 1,
                "type": "#e362d4",
                "size": [
                  55,
                  55
                ],
                "position": [
                  0,
                  0
                ]
              },
              {
                "id": "ART13-5",
                "properties": {
                  "label": "Ability to Provide Information Explaining AI System Output",
                  "Article": 13,
                  "URL": "https://artificialintelligenceact.com/title-iii/chapter-2/article-13/",
                  "CRE": "162-655"
                },
                "color": "#e362d4",
                "styles": {},
                "label": "Ability to Provide Information Explaining AI System Output",
                "scale_factor": 1,
                "type": "#e362d4",
                "size": [
                  55,
                  55
                ],
                "position": [
                  0,
                  0
                ]
              },
              {
                "id": "ART13-6",
                "properties": {
                  "label": "Performance regarding Persons on which System is to be used",
                  "Article": 13,
                  "URL": "https://artificialintelligenceact.com/title-iii/chapter-2/article-13/",
                  "CRE": "820-877"
                },
                "color": "#e362d4",
                "styles": {},
                "label": "Performance regarding Persons on which System is to be used",
                "scale_factor": 1,
                "type": "#e362d4",
                "size": [
                  55,
                  55
                ],
                "position": [
                  0,
                  0
                ]
              },
              {
                "id": "ART13-7",
                "properties": {
                  "label": "Input Data Specifications / Other Info Relevant to Purpose",
                  "Article": 13,
                  "URL": "https://artificialintelligenceact.com/title-iii/chapter-2/article-13/",
                  "CRE": "820-877"
                },
                "color": "#e362d4",
                "styles": {},
                "label": "Input Data Specifications / Other Info Relevant to Purpose",
                "scale_factor": 1,
                "type": "#e362d4",
                "size": [
                  55,
                  55
                ],
                "position": [
                  0,
                  0
                ]
              },
              {
                "id": "ART13-8",
                "properties": {
                  "label": "Info Necessary for Deployers to Interpret/Use Output",
                  "Article": 13,
                  "URL": "https://artificialintelligenceact.com/title-iii/chapter-2/article-13/",
                  "CRE": "820-877"
                },
                "color": "#e362d4",
                "styles": {},
                "label": "Info Necessary for Deployers to Interpret/Use Output",
                "scale_factor": 1,
                "type": "#e362d4",
                "size": [
                  55,
                  55
                ],
                "position": [
                  0,
                  0
                ]
              },
              {
                "id": "ART13-9",
                "properties": {
                  "label": "Pre-determined Confirmity Changes to System / Performance",
                  "Article": 13,
                  "URL": "https://artificialintelligenceact.com/title-iii/chapter-2/article-13/",
                  "CRE": "820-877"
                },
                "color": "#e362d4",
                "styles": {},
                "label": "Pre-determined Confirmity Changes to System / Performance",
                "scale_factor": 1,
                "type": "#e362d4",
                "size": [
                  55,
                  55
                ],
                "position": [
                  0,
                  0
                ]
              },
              {
                "id": "ART13-10",
                "properties": {
                  "label": "Human Oversight Measures",
                  "Article": 13,
                  "URL": "https://artificialintelligenceact.com/title-iii/chapter-2/article-13/",
                  "CRE": "820-877"
                },
                "color": "#e362d4",
                "styles": {},
                "label": "Human Oversight Measures",
                "scale_factor": 1,
                "type": "#e362d4",
                "size": [
                  55,
                  55
                ],
                "position": [
                  0,
                  0
                ]
              },
              {
                "id": "ART13-11",
                "properties": {
                  "label": "Computer Resources Needed and Maintenance Measures",
                  "Article": 13,
                  "URL": "https://artificialintelligenceact.com/title-iii/chapter-2/article-13/",
                  "CRE": "820-877"
                },
                "color": "#e362d4",
                "styles": {},
                "label": "Computer Resources Needed and Maintenance Measures",
                "scale_factor": 1,
                "type": "#e362d4",
                "size": [
                  55,
                  55
                ],
                "position": [
                  0,
                  0
                ]
              },
              {
                "id": "ART13-12",
                "properties": {
                  "label": "Mechanisms to Collect, Store and Interpret Logs",
                  "Article": 13,
                  "URL": "https://artificialintelligenceact.com/title-iii/chapter-2/article-13/",
                  "CRE": "842-876"
                },
                "color": "#e362d4",
                "styles": {},
                "label": "Mechanisms to Collect, Store and Interpret Logs",
                "scale_factor": 1,
                "type": "#e362d4",
                "size": [
                  55,
                  55
                ],
                "position": [
                  0,
                  0
                ]
              },
              {
                "id": "ART16-1",
                "properties": {
                  "label": "Compliance with Ch2 (High Risk AI System Reqs)",
                  "Article": 16,
                  "URL": "https://artificialintelligenceact.com/title-iii/chapter-3/article-16/",
                  "CRE": "464-513"
                },
                "color": "#e8a876",
                "styles": {},
                "label": "Compliance with Ch2 (High Risk AI System Reqs)",
                "scale_factor": 1,
                "type": "#e8a876",
                "size": [
                  55,
                  55
                ],
                "position": [
                  0,
                  0
                ]
              },
              {
                "id": "ART16-4",
                "properties": {
                  "label": "Documentation",
                  "Article": 16,
                  "URL": "https://artificialintelligenceact.com/title-iii/chapter-3/article-16/",
                  "CRE": "820-877"
                },
                "color": "#e8a876",
                "styles": {},
                "label": "Documentation",
                "scale_factor": 1,
                "type": "#e8a876",
                "size": [
                  55,
                  55
                ],
                "position": [
                  0,
                  0
                ]
              },
              {
                "id": "ART16-9",
                "properties": {
                  "label": "Registration",
                  "Article": 16,
                  "URL": "https://artificialintelligenceact.com/title-iii/chapter-3/article-16/",
                  "CRE": "510-324"
                },
                "color": "#e8a876",
                "styles": {},
                "label": "Registration",
                "scale_factor": 1,
                "type": "#e8a876",
                "size": [
                  55,
                  55
                ],
                "position": [
                  0,
                  0
                ]
              },
              {
                "id": "ART9",
                "properties": {
                  "label": "Risk Management System",
                  "Article": 9,
                  "URL": "https://artificialintelligenceact.com/title-iii/chapter-2/article-9/",
                  "CRE": "307-242"
                },
                "color": "#e362d4",
                "styles": {},
                "label": "Risk Management System",
                "scale_factor": 1,
                "type": "#e362d4",
                "size": [
                  55,
                  55
                ],
                "position": [
                  0,
                  0
                ]
              },
              {
                "id": "ART10",
                "properties": {
                  "label": "Data & Data Governance",
                  "Article": 10,
                  "URL": "https://artificialintelligenceact.com/title-iii/chapter-2/article-10/",
                  "CRE": "287-823"
                },
                "color": "#e362d4",
                "styles": {},
                "label": "Data & Data Governance",
                "scale_factor": 1,
                "type": "#e362d4",
                "size": [
                  55,
                  55
                ],
                "position": [
                  0,
                  0
                ]
              },
              {
                "id": "ART11",
                "properties": {
                  "label": "Technical Documentation",
                  "Article": 11,
                  "URL": "https://artificialintelligenceact.com/title-iii/chapter-2/article-11/",
                  "CRE": "820-877"
                },
                "color": "#e362d4",
                "styles": {},
                "label": "Technical Documentation",
                "scale_factor": 1,
                "type": "#e362d4",
                "size": [
                  55,
                  55
                ],
                "position": [
                  0,
                  0
                ]
              },
              {
                "id": "ART12",
                "properties": {
                  "label": "Record Keeping (Logs)",
                  "Article": 12,
                  "URL": "https://artificialintelligenceact.com/title-iii/chapter-2/article-12/",
                  "CRE": "842-876"
                },
                "color": "#e362d4",
                "styles": {},
                "label": "Record Keeping (Logs)",
                "scale_factor": 1,
                "type": "#e362d4",
                "size": [
                  55,
                  55
                ],
                "position": [
                  0,
                  0
                ]
              },
              {
                "id": "ART13",
                "properties": {
                  "label": "Transparency & Use Instructions for Deployers",
                  "Article": 13,
                  "URL": "https://artificialintelligenceact.com/title-iii/chapter-2/article-13/",
                  "CRE": "820-877"
                },
                "color": "#e362d4",
                "styles": {},
                "label": "Transparency & Use Instructions for Deployers",
                "scale_factor": 1,
                "type": "#e362d4",
                "size": [
                  55,
                  55
                ],
                "position": [
                  0,
                  0
                ]
              },
              {
                "id": "ART14",
                "properties": {
                  "label": "Design/Develop to enable Human Oversight",
                  "Article": 14,
                  "URL": "https://artificialintelligenceact.com/title-iii/chapter-2/article-14/",
                  "CRE": "433-342"
                },
                "color": "#e362d4",
                "styles": {},
                "label": "Design/Develop to enable Human Oversight",
                "scale_factor": 1,
                "type": "#e362d4",
                "size": [
                  55,
                  55
                ],
                "position": [
                  0,
                  0
                ]
              },
              {
                "id": "ART15",
                "properties": {
                  "label": "Accuracy, Robustness & Cybersecurity",
                  "Article": 15,
                  "URL": "https://artificialintelligenceact.com/title-iii/chapter-2/article-15/",
                  "CRE": "464-513"
                },
                "color": "#e362d4",
                "styles": {},
                "label": "Accuracy, Robustness & Cybersecurity",
                "scale_factor": 1,
                "type": "#e362d4",
                "size": [
                  55,
                  55
                ],
                "position": [
                  0,
                  0
                ]
              },
              {
                "id": "ART18-1",
                "properties": {
                  "label": "Changes Approved by Notified Bodies",
                  "Article": 18,
                  "URL": "https://artificialintelligenceact.com/title-iii/chapter-3/article-18/",
                  "CRE": "124-564"
                },
                "color": "#FF6347",
                "styles": {},
                "label": "Changes Approved by Notified Bodies",
                "scale_factor": 1,
                "type": "#FF6347",
                "size": [
                  55,
                  55
                ],
                "position": [
                  0,
                  0
                ]
              },
              {
                "id": "ART18-2",
                "properties": {
                  "label": "Decisions/Documents Issues by Notified Bodies",
                  "Article": 18,
                  "URL": "https://artificialintelligenceact.com/title-iii/chapter-3/article-18/",
                  "CRE": "464-513"
                },
                "color": "#FF6347",
                "styles": {},
                "label": "Decisions/Documents Issues by Notified Bodies",
                "scale_factor": 1,
                "type": "#FF6347",
                "size": [
                  55,
                  55
                ],
                "position": [
                  0,
                  0
                ]
              },
              {
                "id": "ART18-3",
                "properties": {
                  "label": "EU Declaration of Conformity",
                  "Article": 18,
                  "URL": "https://artificialintelligenceact.com/title-iii/chapter-3/article-18/",
                  "CRE": "464-513"
                },
                "color": "#FF6347",
                "styles": {},
                "label": "EU Declaration of Conformity",
                "scale_factor": 1,
                "type": "#FF6347",
                "size": [
                  55,
                  55
                ],
                "position": [
                  0,
                  0
                ]
              },
              {
                "id": "ART51-1",
                "properties": {
                  "label": "Register High Risk AI System Provider",
                  "Article": 51,
                  "URL": "https://artificialintelligenceact.com/title-iii/chapter-5/article-51/",
                  "CRE": "766-162"
                },
                "color": "#76c0e8",
                "styles": {},
                "label": "Register High Risk AI System Provider",
                "scale_factor": 1,
                "type": "#76c0e8",
                "size": [
                  55,
                  55
                ],
                "position": [
                  0,
                  0
                ]
              },
              {
                "id": "ART51-2",
                "properties": {
                  "label": "Register High Risk AI System",
                  "Article": 51,
                  "URL": "https://artificialintelligenceact.com/title-iii/chapter-5/article-51/",
                  "CRE": "766-162"
                },
                "color": "#76c0e8",
                "styles": {},
                "label": "Register High Risk AI System",
                "scale_factor": 1,
                "type": "#76c0e8",
                "size": [
                  55,
                  55
                ],
                "position": [
                  0,
                  0
                ]
              }
            ],
            "_overview": {
              "enabled": null,
              "overview_set": false
            },
            "_selected_graph": [
              [],
              []
            ],
            "_sidebar": {
              "enabled": false,
              "start_with": null
            },
            "_view_count": null,
            "_view_module": "yfiles-jupyter-graphs",
            "_view_module_version": "^1.10.1",
            "_view_name": "GraphView",
            "layout": "IPY_MODEL_9924e5fecce24aeb9a67739c65669cd9",
            "tabbable": null,
            "tooltip": null
          }
        },
        "9924e5fecce24aeb9a67739c65669cd9": {
          "model_module": "@jupyter-widgets/base",
          "model_name": "LayoutModel",
          "model_module_version": "2.0.0",
          "state": {
            "_model_module": "@jupyter-widgets/base",
            "_model_module_version": "2.0.0",
            "_model_name": "LayoutModel",
            "_view_count": null,
            "_view_module": "@jupyter-widgets/base",
            "_view_module_version": "2.0.0",
            "_view_name": "LayoutView",
            "align_content": null,
            "align_items": null,
            "align_self": null,
            "border_bottom": null,
            "border_left": null,
            "border_right": null,
            "border_top": null,
            "bottom": null,
            "display": null,
            "flex": null,
            "flex_flow": null,
            "grid_area": null,
            "grid_auto_columns": null,
            "grid_auto_flow": null,
            "grid_auto_rows": null,
            "grid_column": null,
            "grid_gap": null,
            "grid_row": null,
            "grid_template_areas": null,
            "grid_template_columns": null,
            "grid_template_rows": null,
            "height": "770px",
            "justify_content": null,
            "justify_items": null,
            "left": null,
            "margin": null,
            "max_height": null,
            "max_width": null,
            "min_height": null,
            "min_width": null,
            "object_fit": null,
            "object_position": null,
            "order": null,
            "overflow": null,
            "padding": null,
            "right": null,
            "top": null,
            "visibility": null,
            "width": "100%"
          }
        },
        "6f41611c41834b9faf264d90a1008bde": {
          "model_module": "yfiles-jupyter-graphs",
          "model_name": "GraphModel",
          "model_module_version": "^1.10.1",
          "state": {
            "_context_pane_mapping": [
              {
                "id": "Neighborhood",
                "title": "Neighborhood"
              },
              {
                "id": "Data",
                "title": "Data"
              },
              {
                "id": "Search",
                "title": "Search"
              },
              {
                "id": "About",
                "title": "About"
              }
            ],
            "_data_importer": "unknown",
            "_directed": true,
            "_dom_classes": [],
            "_edges": [
              {
                "id": 1,
                "start": "ART16-3",
                "end": "ART17-1",
                "properties": {
                  "label": "TO_INCLUDE"
                },
                "color": "#15AFAC",
                "thickness_factor": 1,
                "directed": true,
                "styles": {},
                "label": "TO_INCLUDE"
              },
              {
                "id": 2,
                "start": "ART16-3",
                "end": "ART17-2",
                "properties": {
                  "label": "TO_INCLUDE"
                },
                "color": "#15AFAC",
                "thickness_factor": 1,
                "directed": true,
                "styles": {},
                "label": "TO_INCLUDE"
              },
              {
                "id": 3,
                "start": "ART16-3",
                "end": "ART17-3",
                "properties": {
                  "label": "TO_INCLUDE"
                },
                "color": "#15AFAC",
                "thickness_factor": 1,
                "directed": true,
                "styles": {},
                "label": "TO_INCLUDE"
              },
              {
                "id": 4,
                "start": "ART16-3",
                "end": "ART17-4",
                "properties": {
                  "label": "TO_INCLUDE"
                },
                "color": "#15AFAC",
                "thickness_factor": 1,
                "directed": true,
                "styles": {},
                "label": "TO_INCLUDE"
              },
              {
                "id": 5,
                "start": "ART16-3",
                "end": "ART17-6",
                "properties": {
                  "label": "TO_INCLUDE"
                },
                "color": "#15AFAC",
                "thickness_factor": 1,
                "directed": true,
                "styles": {},
                "label": "TO_INCLUDE"
              },
              {
                "id": 6,
                "start": "ART16-3",
                "end": "ART17-7",
                "properties": {
                  "label": "TO_INCLUDE"
                },
                "color": "#15AFAC",
                "thickness_factor": 1,
                "directed": true,
                "styles": {},
                "label": "TO_INCLUDE"
              },
              {
                "id": 7,
                "start": "ART16-3",
                "end": "ART17-8",
                "properties": {
                  "label": "TO_INCLUDE"
                },
                "color": "#15AFAC",
                "thickness_factor": 1,
                "directed": true,
                "styles": {},
                "label": "TO_INCLUDE"
              },
              {
                "id": 8,
                "start": "ART16-3",
                "end": "ART17-9",
                "properties": {
                  "label": "TO_INCLUDE"
                },
                "color": "#15AFAC",
                "thickness_factor": 1,
                "directed": true,
                "styles": {},
                "label": "TO_INCLUDE"
              },
              {
                "id": 9,
                "start": "ART16-3",
                "end": "ART17-10",
                "properties": {
                  "label": "TO_INCLUDE"
                },
                "color": "#15AFAC",
                "thickness_factor": 1,
                "directed": true,
                "styles": {},
                "label": "TO_INCLUDE"
              },
              {
                "id": 10,
                "start": "ART16-3",
                "end": "ART17-11",
                "properties": {
                  "label": "TO_INCLUDE"
                },
                "color": "#15AFAC",
                "thickness_factor": 1,
                "directed": true,
                "styles": {},
                "label": "TO_INCLUDE"
              },
              {
                "id": 11,
                "start": "ART16-3",
                "end": "ART17-12",
                "properties": {
                  "label": "TO_INCLUDE"
                },
                "color": "#15AFAC",
                "thickness_factor": 1,
                "directed": true,
                "styles": {},
                "label": "TO_INCLUDE"
              },
              {
                "id": 12,
                "start": "ART16-3",
                "end": "ART16-4",
                "properties": {
                  "label": "TO_INCLUDE"
                },
                "color": "#15AFAC",
                "thickness_factor": 1,
                "directed": true,
                "styles": {},
                "label": "TO_INCLUDE"
              },
              {
                "id": 14,
                "start": "ART16-1",
                "end": "ART9",
                "properties": {
                  "label": "REQUIRES"
                },
                "color": "#15AFAC",
                "thickness_factor": 1,
                "directed": true,
                "styles": {},
                "label": "REQUIRES"
              },
              {
                "id": 15,
                "start": "ART16-1",
                "end": "ART10",
                "properties": {
                  "label": "REQUIRES"
                },
                "color": "#15AFAC",
                "thickness_factor": 1,
                "directed": true,
                "styles": {},
                "label": "REQUIRES"
              },
              {
                "id": 16,
                "start": "ART16-1",
                "end": "ART11",
                "properties": {
                  "label": "REQUIRES"
                },
                "color": "#15AFAC",
                "thickness_factor": 1,
                "directed": true,
                "styles": {},
                "label": "REQUIRES"
              },
              {
                "id": 17,
                "start": "ART16-1",
                "end": "ART12",
                "properties": {
                  "label": "REQUIRES"
                },
                "color": "#15AFAC",
                "thickness_factor": 1,
                "directed": true,
                "styles": {},
                "label": "REQUIRES"
              },
              {
                "id": 18,
                "start": "ART16-1",
                "end": "ART13",
                "properties": {
                  "label": "REQUIRES"
                },
                "color": "#15AFAC",
                "thickness_factor": 1,
                "directed": true,
                "styles": {},
                "label": "REQUIRES"
              },
              {
                "id": 19,
                "start": "ART16-1",
                "end": "ART14",
                "properties": {
                  "label": "REQUIRES"
                },
                "color": "#15AFAC",
                "thickness_factor": 1,
                "directed": true,
                "styles": {},
                "label": "REQUIRES"
              },
              {
                "id": 20,
                "start": "ART16-1",
                "end": "ART15",
                "properties": {
                  "label": "REQUIRES"
                },
                "color": "#15AFAC",
                "thickness_factor": 1,
                "directed": true,
                "styles": {},
                "label": "REQUIRES"
              },
              {
                "id": 29,
                "start": "ART13",
                "end": "ART13-1",
                "properties": {
                  "label": "REQUIRES"
                },
                "color": "#15AFAC",
                "thickness_factor": 1,
                "directed": true,
                "styles": {},
                "label": "REQUIRES"
              },
              {
                "id": 30,
                "start": "ART13",
                "end": "ART13-2",
                "properties": {
                  "label": "REQUIRES"
                },
                "color": "#15AFAC",
                "thickness_factor": 1,
                "directed": true,
                "styles": {},
                "label": "REQUIRES"
              },
              {
                "id": 31,
                "start": "ART13",
                "end": "ART13-3",
                "properties": {
                  "label": "REQUIRES"
                },
                "color": "#15AFAC",
                "thickness_factor": 1,
                "directed": true,
                "styles": {},
                "label": "REQUIRES"
              },
              {
                "id": 32,
                "start": "ART13",
                "end": "ART13-4",
                "properties": {
                  "label": "REQUIRES"
                },
                "color": "#15AFAC",
                "thickness_factor": 1,
                "directed": true,
                "styles": {},
                "label": "REQUIRES"
              },
              {
                "id": 33,
                "start": "ART13",
                "end": "ART13-5",
                "properties": {
                  "label": "REQUIRES"
                },
                "color": "#15AFAC",
                "thickness_factor": 1,
                "directed": true,
                "styles": {},
                "label": "REQUIRES"
              },
              {
                "id": 34,
                "start": "ART13",
                "end": "ART13-6",
                "properties": {
                  "label": "REQUIRES"
                },
                "color": "#15AFAC",
                "thickness_factor": 1,
                "directed": true,
                "styles": {},
                "label": "REQUIRES"
              },
              {
                "id": 35,
                "start": "ART13",
                "end": "ART13-7",
                "properties": {
                  "label": "REQUIRES"
                },
                "color": "#15AFAC",
                "thickness_factor": 1,
                "directed": true,
                "styles": {},
                "label": "REQUIRES"
              },
              {
                "id": 36,
                "start": "ART13",
                "end": "ART13-8",
                "properties": {
                  "label": "REQUIRES"
                },
                "color": "#15AFAC",
                "thickness_factor": 1,
                "directed": true,
                "styles": {},
                "label": "REQUIRES"
              },
              {
                "id": 37,
                "start": "ART13",
                "end": "ART13-9",
                "properties": {
                  "label": "REQUIRES"
                },
                "color": "#15AFAC",
                "thickness_factor": 1,
                "directed": true,
                "styles": {},
                "label": "REQUIRES"
              },
              {
                "id": 38,
                "start": "ART13",
                "end": "ART13-10",
                "properties": {
                  "label": "REQUIRES"
                },
                "color": "#15AFAC",
                "thickness_factor": 1,
                "directed": true,
                "styles": {},
                "label": "REQUIRES"
              },
              {
                "id": 39,
                "start": "ART13",
                "end": "ART13-11",
                "properties": {
                  "label": "REQUIRES"
                },
                "color": "#15AFAC",
                "thickness_factor": 1,
                "directed": true,
                "styles": {},
                "label": "REQUIRES"
              },
              {
                "id": 40,
                "start": "ART13",
                "end": "ART13-12",
                "properties": {
                  "label": "REQUIRES"
                },
                "color": "#15AFAC",
                "thickness_factor": 1,
                "directed": true,
                "styles": {},
                "label": "REQUIRES"
              }
            ],
            "_graph_layout": {},
            "_highlight": [],
            "_license": {},
            "_model_module": "yfiles-jupyter-graphs",
            "_model_module_version": "^1.10.1",
            "_model_name": "GraphModel",
            "_neighborhood": {},
            "_nodes": [
              {
                "id": "ART16-1",
                "properties": {
                  "label": "Compliance with Ch2 (High Risk AI System Reqs)",
                  "Article": 16,
                  "URL": "https://artificialintelligenceact.com/title-iii/chapter-3/article-16/",
                  "CRE": "464-513"
                },
                "color": "#e8a876",
                "styles": {},
                "label": "Compliance with Ch2 (High Risk AI System Reqs)",
                "scale_factor": 1,
                "type": "#e8a876",
                "size": [
                  55,
                  55
                ],
                "position": [
                  0,
                  0
                ]
              },
              {
                "id": "ART16-3",
                "properties": {
                  "label": "Quality Management System",
                  "Article": 16,
                  "URL": "https://artificialintelligenceact.com/title-iii/chapter-3/article-16/",
                  "CRE": "464-513"
                },
                "color": "#e8a876",
                "styles": {},
                "label": "Quality Management System",
                "scale_factor": 1,
                "type": "#e8a876",
                "size": [
                  55,
                  55
                ],
                "position": [
                  0,
                  0
                ]
              },
              {
                "id": "ART13",
                "properties": {
                  "label": "Transparency & Use Instructions for Deployers",
                  "Article": 13,
                  "URL": "https://artificialintelligenceact.com/title-iii/chapter-2/article-13/",
                  "CRE": "820-877"
                },
                "color": "#e362d4",
                "styles": {},
                "label": "Transparency & Use Instructions for Deployers",
                "scale_factor": 1,
                "type": "#e362d4",
                "size": [
                  55,
                  55
                ],
                "position": [
                  0,
                  0
                ]
              }
            ],
            "_overview": {
              "enabled": null,
              "overview_set": false
            },
            "_selected_graph": [
              [
                {
                  "id": "ART13",
                  "properties": {
                    "label": "Transparency & Use Instructions for Deployers",
                    "Article": 13,
                    "URL": "https://artificialintelligenceact.com/title-iii/chapter-2/article-13/",
                    "CRE": "820-877"
                  }
                }
              ],
              []
            ],
            "_sidebar": {
              "enabled": false,
              "start_with": null
            },
            "_view_count": null,
            "_view_module": "yfiles-jupyter-graphs",
            "_view_module_version": "^1.10.1",
            "_view_name": "GraphView",
            "layout": "IPY_MODEL_172db804d37f4c678fd60805535200e8",
            "tabbable": null,
            "tooltip": null
          }
        },
        "172db804d37f4c678fd60805535200e8": {
          "model_module": "@jupyter-widgets/base",
          "model_name": "LayoutModel",
          "model_module_version": "2.0.0",
          "state": {
            "_model_module": "@jupyter-widgets/base",
            "_model_module_version": "2.0.0",
            "_model_name": "LayoutModel",
            "_view_count": null,
            "_view_module": "@jupyter-widgets/base",
            "_view_module_version": "2.0.0",
            "_view_name": "LayoutView",
            "align_content": null,
            "align_items": null,
            "align_self": null,
            "border_bottom": null,
            "border_left": null,
            "border_right": null,
            "border_top": null,
            "bottom": null,
            "display": null,
            "flex": null,
            "flex_flow": null,
            "grid_area": null,
            "grid_auto_columns": null,
            "grid_auto_flow": null,
            "grid_auto_rows": null,
            "grid_column": null,
            "grid_gap": null,
            "grid_row": null,
            "grid_template_areas": null,
            "grid_template_columns": null,
            "grid_template_rows": null,
            "height": "500px",
            "justify_content": null,
            "justify_items": null,
            "left": null,
            "margin": null,
            "max_height": null,
            "max_width": null,
            "min_height": null,
            "min_width": null,
            "object_fit": null,
            "object_position": null,
            "order": null,
            "overflow": null,
            "padding": null,
            "right": null,
            "top": null,
            "visibility": null,
            "width": "100%"
          }
        }
      }
    }
  },
  "nbformat": 4,
  "nbformat_minor": 5
}